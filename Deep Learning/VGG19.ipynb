{
 "cells": [
  {
   "cell_type": "markdown",
   "metadata": {},
   "source": [
    "## 과제. VGG19 구현하기\n",
    "\n",
    "![VGG19](https://qcloud.coding.net/u/vincentqin/p/blogResource/git/raw/master/CNN-Architectures/89475867.png)"
   ]
  },
  {
   "cell_type": "code",
   "execution_count": null,
   "metadata": {},
   "outputs": [],
   "source": [
    "import torch\n",
    "import torch.nn as nn\n",
    "import torch.nn.functional as F\n",
    "from torch.utils.data import DataLoader\n",
    "from torch.autograd import Variable\n",
    "\n",
    "from torchvision import transforms\n",
    "from torchvision import datasets\n",
    "\n",
    "batch_size = 4\n",
    "learning_rate = 0.01\n",
    "num_epochs = 5\n",
    "\n",
    "transform = transforms.ToTensor()\n",
    "\n",
    "# Data Loader\n",
    "trainData = datasets.CIFAR10(root=\"./data\",train=True,transform=transform,download=True)\n",
    "trainLoader = DataLoader(trainData,batch_size=batch_size,shuffle=True)\n",
    "\n",
    "testData = datasets.CIFAR10(root=\"./data\", train=False, transform=transform)\n",
    "testLoader = DataLoader(testData, batch_size=batch_size, shuffle=False)"
   ]
  },
  {
   "cell_type": "code",
   "execution_count": null,
   "metadata": {},
   "outputs": [],
   "source": [
    "def conv(c_in, c_out, k_size, stride=1, pad=1, bn=True):\n",
    "    \"\"\"Custom convolutional layer for simplicity.\"\"\"\n",
    "    layers = []\n",
    "    layers.append(nn.Conv2d(c_in, c_out, k_size, stride, pad, bias=False))\n",
    "    if bn:\n",
    "        layers.append(nn.BatchNorm2d(c_out))\n",
    "    layers.append(nn.ReLU())\n",
    "    return nn.Sequential(*layers)"
   ]
  },
  {
   "cell_type": "code",
   "execution_count": null,
   "metadata": {},
   "outputs": [],
   "source": [
    "class VGG16(nn.Module):\n",
    "    def __init__(self):\n",
    "        super(VGG16, self).__init__()\n",
    "\n",
    "        self.layer1 = nn.Sequential(\n",
    "            conv(3, 64, 3),\n",
    "            conv(64, 64, 3),\n",
    "            nn.MaxPool2d(kernel_size=2, stride=2))\n",
    "\n",
    "        self.layer2 = nn.Sequential(\n",
    "            conv(64, 128, 3),\n",
    "            conv(128, 128, 3),\n",
    "            nn.MaxPool2d(kernel_size=2, stride=2))\n",
    "\n",
    "        self.layer3 = nn.Sequential(\n",
    "            conv(128, 256, 3),\n",
    "            conv(256, 256, 3),\n",
    "            conv(256, 256, 3),\n",
    "            nn.MaxPool2d(kernel_size=2, stride=2))\n",
    "\n",
    "        self.layer4 = nn.Sequential(\n",
    "            conv(256, 512, 3),\n",
    "            conv(512, 512, 3),\n",
    "            conv(512, 512, 3),\n",
    "            nn.MaxPool2d(kernel_size=2, stride=2))\n",
    "\n",
    "        self.layer5 = nn.Sequential(\n",
    "            conv(512, 512, 3),\n",
    "            conv(512, 512, 3),\n",
    "            conv(512, 512, 3),\n",
    "            nn.MaxPool2d(kernel_size=2, stride=2))\n",
    "\n",
    "        self.FC1 = nn.Sequential(\n",
    "            nn.Linear(512, 4096),\n",
    "            nn.BatchNorm1d(4096),\n",
    "            nn.ReLU())\n",
    "\n",
    "        self.FC2 = nn.Sequential(\n",
    "            nn.Linear(4096, 4096),\n",
    "            nn.BatchNorm1d(4096),\n",
    "            nn.ReLU())\n",
    "\n",
    "        self.FC3 = nn.Sequential(\n",
    "            nn.Linear(4096, 10),\n",
    "            nn.BatchNorm1d(10),\n",
    "            nn.Softmax())\n",
    "\n",
    "    def forward(self, x):\n",
    "        out = self.layer1(x)\n",
    "        out = self.layer2(out)\n",
    "        out = self.layer3(out)\n",
    "        out = self.layer4(out)\n",
    "        out = self.layer5(out)\n",
    "\n",
    "        out = out.view(out.size(0), -1)\n",
    "\n",
    "        out = self.FC1(out)\n",
    "        out = self.FC2(out)\n",
    "        out = self.FC3(out)\n",
    "\n",
    "        return out"
   ]
  },
  {
   "cell_type": "code",
   "execution_count": null,
   "metadata": {},
   "outputs": [],
   "source": [
    "vgg16 = VGG16()\n",
    "\n",
    "# Loss Function\n",
    "Loss_function = nn.CrossEntropyLoss()\n",
    "\n",
    "# Optimizer\n",
    "optimizer = torch.optim.Adam(vgg16.parameters(), lr=learning_rate)\n"
   ]
  },
  {
   "cell_type": "code",
   "execution_count": null,
   "metadata": {},
   "outputs": [],
   "source": [
    "# Train the model\n",
    "for epoch in range(num_epochs):\n",
    "    for i, (images, labels) in enumerate(trainLoader):\n",
    "        optimizer.zero_grad()\n",
    "        outputs = vgg16(images)\n",
    "        loss = Loss_function(outputs, labels)\n",
    "        loss.backward()\n",
    "        optimizer.step()\n",
    "\n",
    "        if i % 100 == 0:\n",
    "            print('Epoch [%d/%d], Iter [%d/%d] Loss %.4f'\n",
    "                  % (epoch+1, num_epochs, i, len(trainLoader), loss.item()))"
   ]
  },
  {
   "cell_type": "code",
   "execution_count": null,
   "metadata": {},
   "outputs": [],
   "source": [
    "# Test the model\n",
    "vgg16.eval()\n",
    "correct = 0\n",
    "total = 0\n",
    "\n",
    "for images, labels in testLoader:\n",
    "    images = Variable(images).cuda()\n",
    "    outputs = vgg16(images)\n",
    "    _, predicted = torch.max(outputs.data, 1)\n",
    "    total += labels.size(0)\n",
    "    correct += (predicted.cpu() == labels).sum()\n",
    "\n",
    "print('Test Accuracy : %d %%' % (100 * correct / total))\n",
    "\n",
    "# Save the model checkpoint\n",
    "torch.save(model.state_dict(), 'model_nn.ckpt')"
   ]
  }
 ],
 "metadata": {
  "kernelspec": {
   "display_name": "Python 3",
   "language": "python",
   "name": "python3"
  },
  "language_info": {
   "codemirror_mode": {
    "name": "ipython",
    "version": 3
   },
   "file_extension": ".py",
   "mimetype": "text/x-python",
   "name": "python",
   "nbconvert_exporter": "python",
   "pygments_lexer": "ipython3",
   "version": "3.6.8"
  }
 },
 "nbformat": 4,
 "nbformat_minor": 2
}
