{
 "cells": [
  {
   "cell_type": "markdown",
   "metadata": {},
   "source": [
    "# cifar-10 cnn using pytorch"
   ]
  },
  {
   "cell_type": "code",
   "execution_count": 1,
   "metadata": {},
   "outputs": [],
   "source": [
    "\n",
    "import torch\n",
    "import torchvision\n",
    "import torchvision.transforms as transforms\n",
    "import matplotlib.pyplot as plt\n",
    "import numpy as np\n",
    "import torch.nn as nn\n",
    "import torch.nn.functional as F\n",
    "import torch.optim as optim"
   ]
  },
  {
   "cell_type": "code",
   "execution_count": 2,
   "metadata": {},
   "outputs": [
    {
     "name": "stdout",
     "output_type": "stream",
     "text": [
      "Files already downloaded and verified\n",
      "Files already downloaded and verified\n"
     ]
    }
   ],
   "source": [
    "transform = transforms.Compose( [transforms.ToTensor(), transforms.Normalize((0.5, 0.5, 0.5), (0.5, 0.5, 0.5))])\n",
    "\n",
    "trainset = torchvision.datasets.CIFAR10(root='./data', train=True,\n",
    "                                        download=True, transform=transform)\n",
    "trainloader = torch.utils.data.DataLoader(trainset, batch_size=4,\n",
    "                                          shuffle=True, num_workers=0)\n",
    "\n",
    "testset = torchvision.datasets.CIFAR10(root='./data', train=False,\n",
    "                                       download=True, transform=transform)\n",
    "testloader = torch.utils.data.DataLoader(testset, batch_size=4,\n",
    "                                         shuffle=False, num_workers=0)\n",
    "\n",
    "classes = ('plane', 'car', 'bird', 'cat', 'deer', 'dog', 'frog', 'horse', 'ship', 'truck')\n",
    "\n",
    "\n",
    "# Definition of a CNN Model with 5 conv. layers\n",
    "class Net(nn.Module):    \n",
    "    def __init__(self):\n",
    "          super(Net, self).__init__()\n",
    "          # 1 input image channel, 6 output channels, 5x5 square convolution\n",
    "          # kernel\n",
    "          self.conv1 = nn.Conv2d(3, 56, 1)\n",
    "          self.conv1_bn = nn.BatchNorm2d(56)\n",
    "          self.conv2 = nn.Conv2d(56, 84, 2)\n",
    "          self.conv2_bn = nn.BatchNorm2d(84)\n",
    "          self.conv3 = nn.Conv2d(84, 128, 2)\n",
    "          self.conv3_bn = nn.BatchNorm2d(128)\n",
    "          self.conv4 = nn.Conv2d(128, 256, 2)\n",
    "          self.conv4_bn = nn.BatchNorm2d(256)\n",
    "          self.conv5 = nn.Conv2d(256, 512, 2)\n",
    "          self.conv5_bn = nn.BatchNorm2d(512)\n",
    "          self.drop = nn.Dropout2d(p=0.2)\n",
    "          \n",
    "          self.fc1 = nn.Linear(4608, 2000)          \n",
    "          self.fc2 = nn.Linear(2000, 10)\n",
    "            \n",
    "    def forward(self, x):\n",
    "        x = F.relu(self.conv1_bn(self.conv1(x))) #Conv -> BN -> ReLu\n",
    "        x = F.relu(self.conv2_bn(self.conv2(x))) #Conv -> BN -> ReLu\n",
    "        x = F.max_pool2d(F.relu(self.conv3_bn(self.conv3(x))),2) #Conv -> BN -> ReLu -> Max Pooling\n",
    "        x = F.max_pool2d(F.relu(self.conv4_bn(self.conv4(x))),2) #Conv -> BN -> ReLu -> Max Pooling \n",
    "        x = F.max_pool2d(F.relu(self.conv5_bn(self.conv5(x))),2) #Conv -> BN -> ReLu -> Max Pooling\n",
    "\n",
    "        x = self.drop(x)\n",
    "        \n",
    "        x = x.view(4, -1)\n",
    "        x = F.relu(self.fc1(x))\n",
    "        x = self.fc2(x)\n",
    "        return x\n",
    "\n",
    "net = Net()"
   ]
  },
  {
   "cell_type": "code",
   "execution_count": null,
   "metadata": {},
   "outputs": [
    {
     "name": "stdout",
     "output_type": "stream",
     "text": [
      "[1,  2000] loss: 1.749\n"
     ]
    }
   ],
   "source": [
    "# Definition of Stochastic Gradient Descent with Momentum as a Loss function and optimizer\n",
    "init_lr = 0.001\n",
    "criterion = nn.CrossEntropyLoss()\n",
    "optimizer = optim.SGD(net.parameters(), lr=init_lr, momentum=0.9)\n",
    "\n",
    "# Training of the network\n",
    "num_of_epoch = 25\n",
    "\n",
    "# GPUs are running here\n",
    "device = torch.device(\"cuda:0\" if torch.cuda.is_available() else \"cpu\")\n",
    "net.to(device)\n",
    "\n",
    "for epoch in range(num_of_epoch):  # loop over the dataset multiple times\n",
    "    running_loss = 0.0\n",
    "\n",
    "    if epoch == 10:\n",
    "          for param_group in optimizer.param_groups:\n",
    "                param_group['lr'] = 0.0001\n",
    "    elif epoch == 20:\n",
    "          for param_group in optimizer.param_groups:\n",
    "                param_group['lr'] = 0.00001\n",
    "          \n",
    "    for i, data in enumerate(trainloader, 0):\n",
    "        # get the inputs\n",
    "        inputs, labels = data\n",
    "        inputs, labels = inputs.to(device), labels.to(device) #NEEDED FOR GPU\n",
    "\n",
    "        # zero the parameter gradients\n",
    "        optimizer.zero_grad()\n",
    "\n",
    "        # forward + backward + optimize\n",
    "        outputs = net(inputs)\n",
    "        loss = criterion(outputs, labels)\n",
    "        loss.backward()\n",
    "        optimizer.step()\n",
    "        # print statistics\n",
    "        running_loss += loss.item()\n",
    "        if i % 2000 == 1999:    # print every 2000 batches\n",
    "            print('[%d, %5d] loss: %.3f' %\n",
    "                  (epoch + 1, i + 1, running_loss / 2000))\n",
    "            running_loss = 0.0\n",
    "\n",
    "print('Finished Training')"
   ]
  },
  {
   "cell_type": "code",
   "execution_count": null,
   "metadata": {},
   "outputs": [],
   "source": [
    "\n",
    "correct = 0\n",
    "total = 0\n",
    "\n",
    "for data in testloader:\n",
    "    images, labels = data\n",
    "    outputs = NN_Model(images)\n",
    "    _, predicted = torch.max(outputs.data, 1)\n",
    "    total += labels.size(0)\n",
    "    correct += (predicted == labels).sum().item()\n",
    "\n",
    "print('Accuracy of the network on the 10000 test images: %d %%' % (100 * correct / total))\n"
   ]
  }
 ],
 "metadata": {
  "kernelspec": {
   "display_name": "Python 3",
   "language": "python",
   "name": "python3"
  },
  "language_info": {
   "codemirror_mode": {
    "name": "ipython",
    "version": 3
   },
   "file_extension": ".py",
   "mimetype": "text/x-python",
   "name": "python",
   "nbconvert_exporter": "python",
   "pygments_lexer": "ipython3",
   "version": "3.6.2"
  }
 },
 "nbformat": 4,
 "nbformat_minor": 2
}
