{
 "cells": [
  {
   "cell_type": "markdown",
   "metadata": {},
   "source": [
    "## Softmax Classifier for MNIST (Accuracy : 90 % )"
   ]
  },
  {
   "cell_type": "code",
   "execution_count": 26,
   "metadata": {
    "scrolled": true
   },
   "outputs": [
    {
     "name": "stdout",
     "output_type": "stream",
     "text": [
      "Extracting MNIST_data\\train-images-idx3-ubyte.gz\n",
      "Extracting MNIST_data\\train-labels-idx1-ubyte.gz\n",
      "Extracting MNIST_data\\t10k-images-idx3-ubyte.gz\n",
      "Extracting MNIST_data\\t10k-labels-idx1-ubyte.gz\n",
      "Epoch: 0001 cost= 1.067718973495066\n",
      "Epoch: 0002 cost= 0.472802876384759\n",
      "Epoch: 0003 cost= 0.405896456212821\n",
      "Epoch: 0004 cost= 0.373833433061161\n",
      "Epoch: 0005 cost= 0.353891410358589\n",
      "Epoch: 0006 cost= 0.339750576820224\n",
      "Epoch: 0007 cost= 0.328193694039841\n",
      "Epoch: 0008 cost= 0.321265068988908\n",
      "Epoch: 0009 cost= 0.312175496254455\n",
      "Epoch: 0010 cost= 0.312240465456112\n",
      "Epoch: 0011 cost= 0.308474700760774\n",
      "Epoch: 0012 cost= 0.301863744089549\n",
      "Epoch: 0013 cost= 0.298923788272183\n",
      "Epoch: 0014 cost= 0.298473227730190\n",
      "Epoch: 0015 cost= 0.293638089038431\n",
      "Epoch: 0016 cost= 0.296269996117124\n",
      "Epoch: 0017 cost= 0.292788349022580\n",
      "Epoch: 0018 cost= 0.293957120889629\n",
      "Epoch: 0019 cost= 0.290382994750345\n",
      "Epoch: 0020 cost= 0.290343567132950\n",
      "Epoch: 0021 cost= 0.291709335173734\n",
      "Epoch: 0022 cost= 0.290326882678677\n",
      "Epoch: 0023 cost= 0.287352748196572\n",
      "Epoch: 0024 cost= 0.288722417977723\n",
      "Epoch: 0025 cost= 0.289041873463853\n",
      "Epoch: 0026 cost= 0.285217153374106\n",
      "Epoch: 0027 cost= 0.287022422408177\n",
      "Epoch: 0028 cost= 0.283510086649859\n",
      "Epoch: 0029 cost= 0.284588823300702\n",
      "Epoch: 0030 cost= 0.286282294329933\n",
      "Learning Finished!\n",
      "Accuracy: 0.9035\n"
     ]
    }
   ],
   "source": [
    "\n",
    "import tensorflow as tf\n",
    "from tensorflow.examples.tutorials.mnist import input_data\n",
    "mnist = input_data.read_data_sets(\"MNIST_data\", one_hot=True)\n",
    "\n",
    "\n",
    "X= tf.placeholder(tf.float32,[None,784])\n",
    "Y=tf.placeholder(tf.float32,[None,10])\n",
    "\n",
    "W= tf.Variable(tf.random_normal([784,10]))\n",
    "b=tf.Variable(tf.random_normal([10]))\n",
    "hypothesis = tf.matmul(X,W)+b\n",
    "\n",
    "\n",
    "learning_rate=0.01\n",
    "training_epochs=50\n",
    "batch_size=50\n",
    "\n",
    "cost = tf.reduce_mean(tf.nn.softmax_cross_entropy_with_logits(logits=hypothesis, labels=Y))\n",
    "#COST로 Softmax사용!\n",
    "optimizer = tf.train.AdamOptimizer(learning_rate=learning_rate).minimize(cost)\n",
    "\n",
    "sess= tf.Session()\n",
    "sess.run(tf.global_variables_initializer())\n",
    "\n",
    "for epoch in range(training_epochs):\n",
    "    avg_cost = 0\n",
    "    total_batch = int(mnist.train.num_examples/ batch_size)\n",
    "    for i in range(total_batch):\n",
    "        batch_xs,batch_ys=mnist.train.next_batch(batch_size)\n",
    "        feed_dict = {X:batch_xs, Y: batch_ys}\n",
    "        c,_=sess.run([cost,optimizer],feed_dict= feed_dict)\n",
    "        avg_cost += c/total_batch\n",
    "    \n",
    "    print('Epoch:','%04d'%(epoch+1),'cost=','{:.15f}'.format(avg_cost))\n",
    "print('Learning Finished!')\n",
    "\n",
    "correct_prediction = tf.equal(tf.argmax(hypothesis,1),tf.argmax(Y,1))\n",
    "accuracy = tf.reduce_mean(tf.cast(correct_prediction,tf.float32))\n",
    "print('Accuracy:',sess.run(accuracy, feed_dict={X:mnist.test.images, Y:mnist.test.labels}))\n"
   ]
  },
  {
   "cell_type": "markdown",
   "metadata": {},
   "source": [
    "## Neural Network for MNIST (Accuracy : 94 % )"
   ]
  },
  {
   "cell_type": "code",
   "execution_count": 20,
   "metadata": {},
   "outputs": [
    {
     "name": "stdout",
     "output_type": "stream",
     "text": [
      "Extracting MNIST_data\\train-images-idx3-ubyte.gz\n",
      "Extracting MNIST_data\\train-labels-idx1-ubyte.gz\n",
      "Extracting MNIST_data\\t10k-images-idx3-ubyte.gz\n",
      "Extracting MNIST_data\\t10k-labels-idx1-ubyte.gz\n"
     ]
    },
    {
     "ename": "NameError",
     "evalue": "name 'L2' is not defined",
     "output_type": "error",
     "traceback": [
      "\u001b[1;31m---------------------------------------------------------------------------\u001b[0m",
      "\u001b[1;31mNameError\u001b[0m                                 Traceback (most recent call last)",
      "\u001b[1;32m<ipython-input-20-719e3825a060>\u001b[0m in \u001b[0;36m<module>\u001b[1;34m\u001b[0m\n\u001b[0;32m     18\u001b[0m \u001b[0mL1\u001b[0m \u001b[1;33m=\u001b[0m \u001b[0mtf\u001b[0m\u001b[1;33m.\u001b[0m\u001b[0mnn\u001b[0m\u001b[1;33m.\u001b[0m\u001b[0mrelu\u001b[0m\u001b[1;33m(\u001b[0m\u001b[0mtf\u001b[0m\u001b[1;33m.\u001b[0m\u001b[0mmatmul\u001b[0m\u001b[1;33m(\u001b[0m\u001b[0mX\u001b[0m\u001b[1;33m,\u001b[0m\u001b[0mW1\u001b[0m\u001b[1;33m)\u001b[0m\u001b[1;33m+\u001b[0m\u001b[0mb1\u001b[0m\u001b[1;33m)\u001b[0m \u001b[1;31m##relu사용과 NN을 통한 성능 향상\u001b[0m\u001b[1;33m\u001b[0m\u001b[1;33m\u001b[0m\u001b[0m\n\u001b[0;32m     19\u001b[0m \u001b[1;33m\u001b[0m\u001b[0m\n\u001b[1;32m---> 20\u001b[1;33m \u001b[0mhypothesis\u001b[0m \u001b[1;33m=\u001b[0m \u001b[0mtf\u001b[0m\u001b[1;33m.\u001b[0m\u001b[0mmatmul\u001b[0m\u001b[1;33m(\u001b[0m\u001b[0mL2\u001b[0m\u001b[1;33m,\u001b[0m\u001b[0mW2\u001b[0m\u001b[1;33m)\u001b[0m\u001b[1;33m+\u001b[0m\u001b[0mb3\u001b[0m\u001b[1;33m\u001b[0m\u001b[1;33m\u001b[0m\u001b[0m\n\u001b[0m\u001b[0;32m     21\u001b[0m \u001b[1;33m\u001b[0m\u001b[0m\n\u001b[0;32m     22\u001b[0m \u001b[1;33m\u001b[0m\u001b[0m\n",
      "\u001b[1;31mNameError\u001b[0m: name 'L2' is not defined"
     ]
    }
   ],
   "source": [
    "\n",
    "import tensorflow as tf\n",
    "from tensorflow.examples.tutorials.mnist import input_data\n",
    "mnist = input_data.read_data_sets(\"MNIST_data\", one_hot=True)\n",
    "\n",
    "batch_xs,batch_ys=mnist.train.next_batch(100)\n",
    "\n",
    "\n",
    "X= tf.placeholder(tf.float32,[None,784])\n",
    "Y=tf.placeholder(tf.float32,[None,10])\n",
    "\n",
    "W1= tf.Variable(tf.random_normal([784,256]))\n",
    "b1=tf.Variable(tf.random_normal([256]))\n",
    "L1 = tf.nn.relu(tf.matmul(X,W1)+b1) ##relu사용과 NN을 통한 성능 향상 \n",
    "\n",
    "W1= tf.Variable(tf.random_normal([256,256])) ##이 값은 아무거나 해도 상관없다\n",
    "b1=tf.Variable(tf.random_normal([256]))\n",
    "L1 = tf.nn.relu(tf.matmul(X,W1)+b1) ##relu사용과 NN을 통한 성능 향상 \n",
    "\n",
    "W1= tf.Variable(tf.random_normal([256,10]))\n",
    "b1=tf.Variable(tf.random_normal([10]))\n",
    "L1 = tf.nn.relu(tf.matmul(X,W1)+b1) ##relu사용과 NN을 통한 성능 향상 \n",
    "\n",
    "hypothesis = tf.matmul(L2,W2)+b3\n",
    "\n",
    "\n",
    "learning_rate=0.005\n",
    "training_epochs=100\n",
    "batch_size=100\n",
    "\n",
    "cost = tf.reduce_mean(tf.nn.softmax_cross_entropy_with_logits(logits=hypothesis, labels=Y))\n",
    "optimizer = tf.train.AdamOptimizer(learning_rate=learning_rate).minimize(cost)\n",
    "\n",
    "sess= tf.Session()\n",
    "sess.run(tf.global_variables_initializer())\n",
    "\n",
    "for epoch in range(training_epochs):\n",
    "    avg_cost = 0\n",
    "    total_batch = int(mnist.train.num_examples/ batch_size)\n",
    "    for i in range(total_batch):\n",
    "        feed_dict = {X:batch_xs, Y: batch_ys}\n",
    "        c,_=sess.run([cost,optimizer],feed_dict= feed_dict)\n",
    "        avg_cost += c/total_batch\n",
    "    \n",
    "    print('Epoch:','%04d'%(epoch+1),'cost=','{:.35f}'.format(avg_cost))\n",
    "print('Learning Finished!')\n",
    "\n",
    "correct_prediction = tf.equal(tf.argmax(hypothesis,1),tf.argmax(Y,1))\n",
    "accuracy = tf.reduce_mean(tf.cast(correct_prediction,tf.float32))\n",
    "print('Accuracy:',sess.run(accuracy, feed_dict={X:mnist.test.images, Y:mnist.test.labels}))\n"
   ]
  }
 ],
 "metadata": {
  "kernelspec": {
   "display_name": "Python 3",
   "language": "python",
   "name": "python3"
  },
  "language_info": {
   "codemirror_mode": {
    "name": "ipython",
    "version": 3
   },
   "file_extension": ".py",
   "mimetype": "text/x-python",
   "name": "python",
   "nbconvert_exporter": "python",
   "pygments_lexer": "ipython3",
   "version": "3.6.8"
  }
 },
 "nbformat": 4,
 "nbformat_minor": 2
}
