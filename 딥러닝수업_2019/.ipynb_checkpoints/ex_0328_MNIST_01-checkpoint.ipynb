{
 "cells": [
  {
   "cell_type": "code",
   "execution_count": 13,
   "metadata": {},
   "outputs": [],
   "source": [
    "import gzip \n",
    "import pickle\n",
    "import os\n",
    "import numpy as np\n",
    "\n",
    "files={\n",
    "    'train_img':'./data/train-images-idx3-ubyte.gz',\n",
    "    'train_label':'./data/train-labels-idx1-ubyte.gz',\n",
    "    'test_img':'./data/t10k-images-idx3-ubyte.gz',\n",
    "    'test_label':'./data/t10k-labels-idx1-ubyte.gz'\n",
    "    \n",
    "}\n",
    "def _load_img(filename):\n",
    "    with gzip.open(filename,'rb')as f:\n",
    "        data=np.frombuffer(f.read(),np.uint8, offset=16)\n",
    "    data=data.reshape(-1,784)\n",
    "    return data\n",
    "\n",
    "def _load_label(filename):\n",
    "    with gzip.open(filename,'rb')as f:\n",
    "        data=np.frombuffer(f.read(),np.uint8,offset=8)\n",
    "    return data\n",
    "\n",
    "def _change_one_hot_label(X):\n",
    "    T=np.zeros((X.size,10))\n",
    "    for idx, row in enumerate(T):\n",
    "        row[X[idx]]=1\n",
    "    return T "
   ]
  },
  {
   "cell_type": "code",
   "execution_count": 16,
   "metadata": {},
   "outputs": [],
   "source": [
    "\n",
    "def load_mnist(normalize=True, flatten=True, one_hot_label=True):\n",
    "    dataset={}\n",
    "    for key in ('train_img','test_img'):\n",
    "        dataset[key]=_load_img(files[key])\n",
    "    for key in ('train_label','test_label'):\n",
    "        dataset[key]=_load_label(files[key])\n",
    "        \n",
    "    if normalize:\n",
    "        for key in ('train_img','test_img'):\n",
    "            dataset[key]= dataset[key].astype(np.float32)\n",
    "            dataset[key]/=255.0\n",
    "            \n",
    "    if one_hot_label:\n",
    "        for key in ('train_label','test_label'):\n",
    "            dataset[key]=_change_one_hot_label(dataset[key])\n",
    "    if not flatten:\n",
    "        dataset[key]=_change_one_hot_label(dataset[key])\n",
    "    return ((dataset['train_img'],dataset['train_label']),\n",
    "           (dataset['test_img'],dataset['test_label']))"
   ]
  },
  {
   "cell_type": "code",
   "execution_count": 17,
   "metadata": {},
   "outputs": [
    {
     "name": "stdout",
     "output_type": "stream",
     "text": [
      "5, 0, 4, 1, 9, 2, 1, 3, 1, 4, \n"
     ]
    },
    {
     "data": {
      "image/png": "[encoded data removed]",
      "text/plain": [
       "<Figure size 432x288 with 10 Axes>"
      ]
     },
     "metadata": {
      "needs_background": "light"
     },
     "output_type": "display_data"
    }
   ],
   "source": [
    "\n",
    "from matplotlib.pylab import plt\n",
    "\n",
    "(x_train,y_train),(x_test,y_test)=load_mnist()\n",
    "\n",
    "for i in range(10):\n",
    "    img=x_train[i]\n",
    "    label=np.argmax(y_train[i])\n",
    "    print(label, end=\", \")\n",
    "    img=img.reshape(28,28)\n",
    "    plt.subplot(1,10,i+1)\n",
    "    plt.imshow(img)\n",
    "print()\n",
    "plt.show()\n",
    "    \n",
    "    "
   ]
  }
 ],
 "metadata": {
  "kernelspec": {
   "display_name": "Python 3",
   "language": "python",
   "name": "python3"
  },
  "language_info": {
   "codemirror_mode": {
    "name": "ipython",
    "version": 3
   },
   "file_extension": ".py",
   "mimetype": "text/x-python",
   "name": "python",
   "nbconvert_exporter": "python",
   "pygments_lexer": "ipython3",
   "version": "3.6.8"
  }
 },
 "nbformat": 4,
 "nbformat_minor": 2
}
