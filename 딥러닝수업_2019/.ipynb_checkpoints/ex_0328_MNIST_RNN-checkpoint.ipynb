{
 "cells": [
  {
   "cell_type": "code",
   "execution_count": null,
   "metadata": {},
   "outputs": [],
   "source": [
    "import numpy as np\n",
    "from mnist_data import load_mnist\n",
    "from functions import sigmoid, softmax\n",
    "\n",
    "layers=[784,20,10,10]\n",
    "\n",
    "def init_network():\n",
    "    network={}\n",
    "    network['W1']=0.01 * np.random.randn(layers[0],layers[1])\n",
    "    network['W2']=0.01 * np.random.randn(layers[1],layers[2])\n",
    "    network['W3']=0.01 * np.random.randn(layers[2],layers[3])\n",
    "    \n",
    "    "
   ]
  }
 ],
 "metadata": {
  "kernelspec": {
   "display_name": "Python 3",
   "language": "python",
   "name": "python3"
  },
  "language_info": {
   "codemirror_mode": {
    "name": "ipython",
    "version": 3
   },
   "file_extension": ".py",
   "mimetype": "text/x-python",
   "name": "python",
   "nbconvert_exporter": "python",
   "pygments_lexer": "ipython3",
   "version": "3.6.8"
  }
 },
 "nbformat": 4,
 "nbformat_minor": 2
}
