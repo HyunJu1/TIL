{
 "cells": [
  {
   "cell_type": "code",
   "execution_count": 1,
   "metadata": {},
   "outputs": [
    {
     "ename": "SyntaxError",
     "evalue": "unexpected EOF while parsing (<ipython-input-1-1a2f3c250aba>, line 18)",
     "output_type": "error",
     "traceback": [
      "\u001b[1;36m  File \u001b[1;32m\"<ipython-input-1-1a2f3c250aba>\"\u001b[1;36m, line \u001b[1;32m18\u001b[0m\n\u001b[1;33m    def predict(network, x):\u001b[0m\n\u001b[1;37m                            ^\u001b[0m\n\u001b[1;31mSyntaxError\u001b[0m\u001b[1;31m:\u001b[0m unexpected EOF while parsing\n"
     ]
    }
   ],
   "source": [
    "import numpy as np\n",
    "from mnist_data import load_mnist\n",
    "from functions import sigmoid, softmax\n",
    "\n",
    "layers=[784,20,10,10]\n",
    "\n",
    "def init_network():\n",
    "    network={}\n",
    "    network['W1']=0.01 * np.random.randn(layers[0],layers[1])\n",
    "    network['W2']=0.01 * np.random.randn(layers[1],layers[2])\n",
    "    network['W3']=0.01 * np.random.randn(layers[2],layers[3])\n",
    "    \n",
    "    network['b1']=np.zeros(layers[1])\n",
    "    network['b2']=np.zersos(layers[2])\n",
    "    network['b3']=np.zeros(layers[3])\n",
    "    return network\n",
    "\n",
    "def predict(network, x):\n",
    "    W1,W2,W3 = network['W1'], network['W2'], network['W3']\n",
    "    b1,b2,b3=network['b1'],network['b2'],network['b3']\n",
    "    x1=sigmoid(np.dot(x,W1))"
   ]
  },
  {
   "cell_type": "code",
   "execution_count": null,
   "metadata": {},
   "outputs": [],
   "source": []
  }
 ],
 "metadata": {
  "kernelspec": {
   "display_name": "Python 3",
   "language": "python",
   "name": "python3"
  },
  "language_info": {
   "codemirror_mode": {
    "name": "ipython",
    "version": 3
   },
   "file_extension": ".py",
   "mimetype": "text/x-python",
   "name": "python",
   "nbconvert_exporter": "python",
   "pygments_lexer": "ipython3",
   "version": "3.6.8"
  }
 },
 "nbformat": 4,
 "nbformat_minor": 2
}
