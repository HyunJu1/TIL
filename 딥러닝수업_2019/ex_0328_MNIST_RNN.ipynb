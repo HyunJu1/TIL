{
 "cells": [
  {
   "cell_type": "code",
   "execution_count": 5,
   "metadata": {},
   "outputs": [],
   "source": [
    "import gzip \n",
    "import pickle\n",
    "import os\n",
    "import numpy as np\n",
    "\n",
    "files={\n",
    "    'train_img':'./data/train-images-idx3-ubyte.gz',\n",
    "    'train_label':'./data/train-labels-idx1-ubyte.gz',\n",
    "    'test_img':'./data/t10k-images-idx3-ubyte.gz',\n",
    "    'test_label':'./data/t10k-labels-idx1-ubyte.gz'\n",
    "    \n",
    "}\n",
    "def _load_img(filename):\n",
    "    with gzip.open(filename,'rb')as f:\n",
    "        data=np.frombuffer(f.read(),np.uint8, offset=16)\n",
    "    data=data.reshape(-1,784)\n",
    "    return data\n",
    "\n",
    "def _load_label(filename):\n",
    "    with gzip.open(filename,'rb')as f:\n",
    "        data=np.frombuffer(f.read(),np.uint8,offset=8)\n",
    "    return data\n",
    "\n",
    "def _change_one_hot_label(X):\n",
    "    T=np.zeros((X.size,10))\n",
    "    for idx, row in enumerate(T):\n",
    "        row[X[idx]]=1\n",
    "    return T \n",
    "\n",
    "\n",
    "def load_mnist(normalize=True, flatten=True, one_hot_label=True):\n",
    "    dataset={}\n",
    "    for key in ('train_img','test_img'):\n",
    "        dataset[key]=_load_img(files[key])\n",
    "    for key in ('train_label','test_label'):\n",
    "        dataset[key]=_load_label(files[key])\n",
    "        \n",
    "    if normalize:\n",
    "        for key in ('train_img','test_img'):\n",
    "            dataset[key]= dataset[key].astype(np.float32)\n",
    "            dataset[key]/=255.0\n",
    "            \n",
    "    if one_hot_label:\n",
    "        for key in ('train_label','test_label'):\n",
    "            dataset[key]=_change_one_hot_label(dataset[key])\n",
    "    if not flatten:\n",
    "        dataset[key]=_change_one_hot_label(dataset[key])\n",
    "    return ((dataset['train_img'],dataset['train_label']),\n",
    "           (dataset['test_img'],dataset['test_label']))"
   ]
  },
  {
   "cell_type": "code",
   "execution_count": 7,
   "metadata": {},
   "outputs": [
    {
     "name": "stdout",
     "output_type": "stream",
     "text": [
      "0.09915\n"
     ]
    }
   ],
   "source": [
    "\n",
    "layers=[784,20,10,10]\n",
    "\n",
    "def sigmoid (x):\n",
    "    return 1/(1+np.exp(-x))\n",
    "\n",
    "def softmax(x):\n",
    "    e= np.exp(x-np.max(x))\n",
    "    return e/np.sum(e)\n",
    "\n",
    "def init_network():\n",
    "    network={}\n",
    "    network['W1']=0.01 * np.random.randn(layers[0],layers[1])\n",
    "    network['W2']=0.01 * np.random.randn(layers[1],layers[2])\n",
    "    network['W3']=0.01 * np.random.randn(layers[2],layers[3])\n",
    "    \n",
    "    network['b1']=np.zeros(layers[1])\n",
    "    network['b2']=np.zeros(layers[2])\n",
    "    network['b3']=np.zeros(layers[3])\n",
    "    return network\n",
    "\n",
    "def predict(network, x):\n",
    "    W1,W2,W3 = network['W1'], network['W2'], network['W3']\n",
    "    b1,b2,b3=network['b1'],network['b2'],network['b3']\n",
    "    x1=sigmoid(np.dot(x,W1)+b1)\n",
    "    x2=sigmoid(np.dot(x1,W2)+b2)\n",
    "    x3= np.dot(x2,W3)+b3\n",
    "    y=softmax(x3)\n",
    "    return y\n",
    "\n",
    "def accuracy(network,x,t):\n",
    "    y=predict(network,x)\n",
    "    y= np.argmax(y, axis=1)\n",
    "    t=np.argmax(t, axis=1)\n",
    "    accuracy = np.sum(y==t) /float(x.shape[0])\n",
    "    return accuracy \n",
    "\n",
    "(x_train,y_train),(x_test,y_test)=load_mnist()\n",
    "network=init_network()\n",
    "print(accuracy(network,x_train,y_train))"
   ]
  },
  {
   "cell_type": "code",
   "execution_count": null,
   "metadata": {},
   "outputs": [],
   "source": []
  }
 ],
 "metadata": {
  "kernelspec": {
   "display_name": "Python 3",
   "language": "python",
   "name": "python3"
  },
  "language_info": {
   "codemirror_mode": {
    "name": "ipython",
    "version": 3
   },
   "file_extension": ".py",
   "mimetype": "text/x-python",
   "name": "python",
   "nbconvert_exporter": "python",
   "pygments_lexer": "ipython3",
   "version": "3.6.2"
  }
 },
 "nbformat": 4,
 "nbformat_minor": 2
}
