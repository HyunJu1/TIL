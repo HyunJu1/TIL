{
 "cells": [
  {
   "cell_type": "code",
   "execution_count": 4,
   "metadata": {},
   "outputs": [],
   "source": [
    "\n",
    "import pandas as pd \n",
    "import numpy as np\n",
    "\n",
    "\n",
    "train =  pd.read_csv('train.csv')\n",
    "test = pd.read_csv('test_mini.csv')\n",
    "\n",
    "freedom =pd.read_excel('WHR2018Chapter2OnlineData.xls')\n",
    "\n",
    "\n",
    "result_train = pd.merge(train,freedom ,how='left',left_on=['country','year'], right_on=['country','year'] )\n",
    "result_test = pd.merge(test,freedom ,how='left',left_on=['country','year'], right_on=['country','year'] )\n",
    "\n",
    "\n",
    "\n",
    "\n",
    "result_train.to_csv('train_after.csv') \n",
    "result_test.to_csv('test_mini_after.csv') \n",
    "\n"
   ]
  },
  {
   "cell_type": "code",
   "execution_count": null,
   "metadata": {},
   "outputs": [],
   "source": []
  }
 ],
 "metadata": {
  "kernelspec": {
   "display_name": "Python 3",
   "language": "python",
   "name": "python3"
  },
  "language_info": {
   "codemirror_mode": {
    "name": "ipython",
    "version": 3
   },
   "file_extension": ".py",
   "mimetype": "text/x-python",
   "name": "python",
   "nbconvert_exporter": "python",
   "pygments_lexer": "ipython3",
   "version": "3.6.8"
  }
 },
 "nbformat": 4,
 "nbformat_minor": 2
}
