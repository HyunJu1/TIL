{
 "cells": [
  {
   "cell_type": "code",
   "execution_count": 10,
   "metadata": {
    "scrolled": true
   },
   "outputs": [],
   "source": [
    "\n",
    "\n",
    "import pandas as pd \n",
    "import numpy as np\n",
    "\n",
    "\n",
    "train =  pd.read_csv('train.csv')\n",
    "test = pd.read_csv('test_mini.csv')\n",
    "\n",
    "\n",
    "#happiness 데이터 쓰려했는데 기간이 2014년까지만 있어서 못씀 \n",
    "# happiness_2015= pd.read_csv('2015.csv')\n",
    "# happiness_2016= pd.read_csv('2016.csv')\n",
    "# happiness_2017= pd.read_csv('2017.csv')\n",
    "\n",
    "# happiness_2015['year']=2012\n",
    "# happiness_2016['year']=2013\n",
    "# happiness_2017['year']=2014\n",
    "# happiness= pd.merge(happiness_2015,happiness_2016,how='outer')\n",
    "# happiness2=pd.merge(happiness,happiness_2017,how='outer')\n",
    "\n",
    "\n",
    "\n",
    "#대신 freedom 데이터 사용하자\n",
    "freedom =pd.read_csv('efw_cc_2018.csv')\n",
    "\n",
    "\n",
    "result_train = pd.merge(train,freedom ,how='left',left_on=['country','year'], right_on=['countries','year'] )\n",
    "result_test = pd.merge(test,freedom ,how='left',left_on=['country','year'], right_on=['countries','year'] )\n",
    "\n",
    "result_train.to_csv('train_after.csv') \n",
    "result_test.to_csv('test_mini_after.csv') \n",
    "\n",
    "\n",
    "\n"
   ]
  }
 ],
 "metadata": {
  "kernelspec": {
   "display_name": "Python 3",
   "language": "python",
   "name": "python3"
  },
  "language_info": {
   "codemirror_mode": {
    "name": "ipython",
    "version": 3
   },
   "file_extension": ".py",
   "mimetype": "text/x-python",
   "name": "python",
   "nbconvert_exporter": "python",
   "pygments_lexer": "ipython3",
   "version": "3.6.8"
  }
 },
 "nbformat": 4,
 "nbformat_minor": 2
}
