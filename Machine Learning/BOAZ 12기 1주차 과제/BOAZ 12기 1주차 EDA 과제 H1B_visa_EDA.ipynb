{
 "cells": [
  {
   "cell_type": "markdown",
   "metadata": {},
   "source": [
    "## H1B Visa\n",
    "\n",
    "- 첫 세션에서 다루지 못한 내용들이 많습니다 \n",
    "- [이곳](https://www.kaggle.com/nsharan/h-1b-visa/kernels)의 kaggle kernel을 참고해 문제를 풀어주세요\n",
    "- EDA에 자주 쓰이지만 매우 기초적인 함수만 사용했습니다"
   ]
  },
  {
   "cell_type": "markdown",
   "metadata": {},
   "source": [
    "### Attribute Information\n",
    "\n",
    "- __CASE_STATUS__\n",
    "    - The CASE_STATUS field denotes the status of the application after LCA processing. Certified applications are filed with USCIS for H-1B approval.\n",
    "<br>\n",
    "<br>\n",
    "- EMPLOYER_NAME\n",
    "    - Name of the employer submitting labor condition application.\n",
    "<br>\n",
    "<br>\n",
    "- SOC_NAME\n",
    "    - Occupational name associated with the SOC_CODE. SOC_CODE is the occupational code associated with the job being requested for temporary labor condition, as classified by the Standard Occupational Classification (SOC) System.\n",
    "<br>\n",
    "<br>\n",
    "- JOB_TITLE\n",
    "    - Title of the job.\n",
    "<br>\n",
    "<br>\n",
    "- FULL_TIME_POSITION\n",
    "    - Y = Full Time Position; N = Part Time Position.\n",
    "<br>\n",
    "<br>\n",
    "- PREVAILING_WAGE\n",
    "    - Prevailing Wage for the job being requested for temporary labor condition. The wage is listed at annual scale in USD. The prevailing wage for a job position is defined as the average wage paid to similarly employed workers in the requested occupation in the area of intended employment. The prevailing wage is based on the employer’s minimum requirements for the position.\n",
    "<br>\n",
    "<br>\n",
    "- YEAR\n",
    "    - Year in which the H-1B visa petition was filed.\n",
    "<br>\n",
    "<br>"
   ]
  },
  {
   "cell_type": "markdown",
   "metadata": {},
   "source": [
    "# EDA"
   ]
  },
  {
   "cell_type": "code",
   "execution_count": 1,
   "metadata": {
    "ExecuteTime": {
     "end_time": "2018-08-30T08:21:27.483781Z",
     "start_time": "2018-08-30T08:21:20.444528Z"
    }
   },
   "outputs": [],
   "source": [
    "\n",
    "import numpy as np\n",
    "import matplotlib\n",
    "import pandas as pd\n",
    "# import seaborn as sns\n",
    "# from subprocess import check_output\n",
    "# from matplotlib.ticker import FuncFormatter"
   ]
  },
  {
   "cell_type": "markdown",
   "metadata": {},
   "source": [
    "#### 1. 데이터 확인\n",
    "- h1b_train.csv 파일을 df_train으로 불러오세요"
   ]
  },
  {
   "cell_type": "code",
   "execution_count": 2,
   "metadata": {
    "ExecuteTime": {
     "end_time": "2018-08-30T06:14:33.136998Z",
     "start_time": "2018-08-30T06:14:27.217138Z"
    }
   },
   "outputs": [],
   "source": [
    "file_path=\"./data/\"\n",
    "file_name=file_path+\"h1b_train.csv\"\n",
    "df_train = pd.read_csv(file_name)\n"
   ]
  },
  {
   "cell_type": "markdown",
   "metadata": {},
   "source": [
    "- feature의 개수와 training example의 개수를 확인하세요"
   ]
  },
  {
   "cell_type": "code",
   "execution_count": 3,
   "metadata": {
    "ExecuteTime": {
     "end_time": "2018-08-30T06:05:39.363425Z",
     "start_time": "2018-08-30T06:05:39.358437Z"
    }
   },
   "outputs": [
    {
     "name": "stdout",
     "output_type": "stream",
     "text": [
      "Number of entries: (1802458, 11)\n"
     ]
    }
   ],
   "source": [
    "# Your Code \n",
    "\n",
    "print('Number of entries:',df_train.shape )"
   ]
  },
  {
   "cell_type": "markdown",
   "metadata": {},
   "source": [
    "- 각 feature의 null값 개수를 확인하세요"
   ]
  },
  {
   "cell_type": "code",
   "execution_count": 4,
   "metadata": {
    "ExecuteTime": {
     "end_time": "2018-08-30T06:07:22.462482Z",
     "start_time": "2018-08-30T06:07:21.362116Z"
    }
   },
   "outputs": [
    {
     "name": "stdout",
     "output_type": "stream",
     "text": [
      "Number of null: Unnamed: 0                0\n",
      "CASE_STATUS               8\n",
      "EMPLOYER_NAME            35\n",
      "SOC_NAME              10706\n",
      "JOB_TITLE                26\n",
      "FULL_TIME_POSITION        9\n",
      "PREVAILING_WAGE          51\n",
      "YEAR                      8\n",
      "WORKSITE                  0\n",
      "lon                   64045\n",
      "lat                   64045\n",
      "dtype: int64\n"
     ]
    }
   ],
   "source": [
    "# Your Code Here\n",
    "print('Number of null:',df_train.isna().sum() )"
   ]
  },
  {
   "cell_type": "markdown",
   "metadata": {},
   "source": [
    "#### 2. 전처리"
   ]
  },
  {
   "cell_type": "code",
   "execution_count": 5,
   "metadata": {
    "ExecuteTime": {
     "end_time": "2018-08-29T15:23:34.129503Z",
     "start_time": "2018-08-29T15:23:34.107562Z"
    },
    "scrolled": true
   },
   "outputs": [
    {
     "data": {
      "text/html": [
       "<div>\n",
       "<style scoped>\n",
       "    .dataframe tbody tr th:only-of-type {\n",
       "        vertical-align: middle;\n",
       "    }\n",
       "\n",
       "    .dataframe tbody tr th {\n",
       "        vertical-align: top;\n",
       "    }\n",
       "\n",
       "    .dataframe thead th {\n",
       "        text-align: right;\n",
       "    }\n",
       "</style>\n",
       "<table border=\"1\" class=\"dataframe\">\n",
       "  <thead>\n",
       "    <tr style=\"text-align: right;\">\n",
       "      <th></th>\n",
       "      <th>Unnamed: 0</th>\n",
       "      <th>CASE_STATUS</th>\n",
       "      <th>EMPLOYER_NAME</th>\n",
       "      <th>SOC_NAME</th>\n",
       "      <th>JOB_TITLE</th>\n",
       "      <th>FULL_TIME_POSITION</th>\n",
       "      <th>PREVAILING_WAGE</th>\n",
       "      <th>YEAR</th>\n",
       "      <th>WORKSITE</th>\n",
       "      <th>lon</th>\n",
       "      <th>lat</th>\n",
       "    </tr>\n",
       "  </thead>\n",
       "  <tbody>\n",
       "    <tr>\n",
       "      <th>0</th>\n",
       "      <td>1349742</td>\n",
       "      <td>CERTIFIED</td>\n",
       "      <td>INTERNATIONAL SYSTEMS TECHNOLOGIES, INC.</td>\n",
       "      <td>Computer Programmers</td>\n",
       "      <td>PROGRAMMER ANALYST</td>\n",
       "      <td>Y</td>\n",
       "      <td>61589.0</td>\n",
       "      <td>2014.0</td>\n",
       "      <td>SUNNYVALE, CALIFORNIA</td>\n",
       "      <td>-122.036350</td>\n",
       "      <td>37.368830</td>\n",
       "    </tr>\n",
       "    <tr>\n",
       "      <th>1</th>\n",
       "      <td>789205</td>\n",
       "      <td>CERTIFIED</td>\n",
       "      <td>GOOGLE INC.</td>\n",
       "      <td>NETWORK AND COMPUTER SYSTEMS ADMINISTRATORS</td>\n",
       "      <td>SITE RELIABILITY ENGINEER</td>\n",
       "      <td>Y</td>\n",
       "      <td>79144.0</td>\n",
       "      <td>2015.0</td>\n",
       "      <td>SAN FRANCISCO, CALIFORNIA</td>\n",
       "      <td>-122.419415</td>\n",
       "      <td>37.774929</td>\n",
       "    </tr>\n",
       "    <tr>\n",
       "      <th>2</th>\n",
       "      <td>1617140</td>\n",
       "      <td>CERTIFIED</td>\n",
       "      <td>WIPRO LIMITED</td>\n",
       "      <td>Computer Occupations, All Other</td>\n",
       "      <td>PROJECT MANAGER</td>\n",
       "      <td>Y</td>\n",
       "      <td>73882.0</td>\n",
       "      <td>2014.0</td>\n",
       "      <td>EL SEGUNDO, CALIFORNIA</td>\n",
       "      <td>-118.416465</td>\n",
       "      <td>33.919180</td>\n",
       "    </tr>\n",
       "    <tr>\n",
       "      <th>3</th>\n",
       "      <td>2757905</td>\n",
       "      <td>CERTIFIED</td>\n",
       "      <td>CPO SERVICES, INC.</td>\n",
       "      <td>Orthotists and Prosthetists</td>\n",
       "      <td>STAFF PROSTHETIST</td>\n",
       "      <td>Y</td>\n",
       "      <td>61589.0</td>\n",
       "      <td>2011.0</td>\n",
       "      <td>PEORIA, ILLINOIS</td>\n",
       "      <td>-89.588986</td>\n",
       "      <td>40.693649</td>\n",
       "    </tr>\n",
       "    <tr>\n",
       "      <th>4</th>\n",
       "      <td>1127948</td>\n",
       "      <td>WITHDRAWN</td>\n",
       "      <td>VALUE SOFTWARE PRODUCTS INC</td>\n",
       "      <td>COMPUTER SYSTEMS ANALYSTS</td>\n",
       "      <td>SOLUTIONS ARCHITECT</td>\n",
       "      <td>Y</td>\n",
       "      <td>71614.0</td>\n",
       "      <td>2015.0</td>\n",
       "      <td>MANASSAS, VIRGINIA</td>\n",
       "      <td>-77.475267</td>\n",
       "      <td>38.750949</td>\n",
       "    </tr>\n",
       "  </tbody>\n",
       "</table>\n",
       "</div>"
      ],
      "text/plain": [
       "   Unnamed: 0 CASE_STATUS                             EMPLOYER_NAME  \\\n",
       "0     1349742   CERTIFIED  INTERNATIONAL SYSTEMS TECHNOLOGIES, INC.   \n",
       "1      789205   CERTIFIED                               GOOGLE INC.   \n",
       "2     1617140   CERTIFIED                             WIPRO LIMITED   \n",
       "3     2757905   CERTIFIED                        CPO SERVICES, INC.   \n",
       "4     1127948   WITHDRAWN               VALUE SOFTWARE PRODUCTS INC   \n",
       "\n",
       "                                      SOC_NAME                  JOB_TITLE  \\\n",
       "0                         Computer Programmers         PROGRAMMER ANALYST   \n",
       "1  NETWORK AND COMPUTER SYSTEMS ADMINISTRATORS  SITE RELIABILITY ENGINEER   \n",
       "2              Computer Occupations, All Other            PROJECT MANAGER   \n",
       "3                  Orthotists and Prosthetists          STAFF PROSTHETIST   \n",
       "4                    COMPUTER SYSTEMS ANALYSTS        SOLUTIONS ARCHITECT   \n",
       "\n",
       "  FULL_TIME_POSITION  PREVAILING_WAGE    YEAR                   WORKSITE  \\\n",
       "0                  Y          61589.0  2014.0      SUNNYVALE, CALIFORNIA   \n",
       "1                  Y          79144.0  2015.0  SAN FRANCISCO, CALIFORNIA   \n",
       "2                  Y          73882.0  2014.0     EL SEGUNDO, CALIFORNIA   \n",
       "3                  Y          61589.0  2011.0           PEORIA, ILLINOIS   \n",
       "4                  Y          71614.0  2015.0         MANASSAS, VIRGINIA   \n",
       "\n",
       "          lon        lat  \n",
       "0 -122.036350  37.368830  \n",
       "1 -122.419415  37.774929  \n",
       "2 -118.416465  33.919180  \n",
       "3  -89.588986  40.693649  \n",
       "4  -77.475267  38.750949  "
      ]
     },
     "execution_count": 5,
     "metadata": {},
     "output_type": "execute_result"
    }
   ],
   "source": [
    "# CASE_STATUS -> CERTIFIED or DENIED\n",
    "# EMPLOYER_NAME -> 고용주 회사\n",
    "# SOC_NAME -> 직업군\n",
    "# JOB_TITLE -> 직무\n",
    "df_train.head()"
   ]
  },
  {
   "cell_type": "markdown",
   "metadata": {},
   "source": [
    "#### 2.1 CASE_STATUS\n",
    "- Certified랑 Denied만 남기고 나머지 행은 지워주세요"
   ]
  },
  {
   "cell_type": "code",
   "execution_count": 6,
   "metadata": {
    "ExecuteTime": {
     "end_time": "2018-08-30T06:15:13.372800Z",
     "start_time": "2018-08-30T06:15:10.811281Z"
    }
   },
   "outputs": [
    {
     "name": "stdout",
     "output_type": "stream",
     "text": [
      "         Unnamed: 0 CASE_STATUS  \\\n",
      "0           1349742   CERTIFIED   \n",
      "1            789205   CERTIFIED   \n",
      "2           1617140   CERTIFIED   \n",
      "3           2757905   CERTIFIED   \n",
      "5            693102      DENIED   \n",
      "6           2662510   CERTIFIED   \n",
      "7            636434   CERTIFIED   \n",
      "8           2265757   CERTIFIED   \n",
      "9           2927315   CERTIFIED   \n",
      "10          1696111   CERTIFIED   \n",
      "11          2042418   CERTIFIED   \n",
      "12          2556938   CERTIFIED   \n",
      "13          1620167   CERTIFIED   \n",
      "14          2066155   CERTIFIED   \n",
      "15          2836033   CERTIFIED   \n",
      "16          1649897   CERTIFIED   \n",
      "17           734416   CERTIFIED   \n",
      "18          2959714   CERTIFIED   \n",
      "19          1498142   CERTIFIED   \n",
      "20            98397   CERTIFIED   \n",
      "21          2196173   CERTIFIED   \n",
      "22          2511101   CERTIFIED   \n",
      "24           718222   CERTIFIED   \n",
      "25            46751   CERTIFIED   \n",
      "26          1961506   CERTIFIED   \n",
      "27          1862817   CERTIFIED   \n",
      "28          2723040   CERTIFIED   \n",
      "29           913307      DENIED   \n",
      "30          2472137   CERTIFIED   \n",
      "31          1773253   CERTIFIED   \n",
      "...             ...         ...   \n",
      "1802423     1774076   CERTIFIED   \n",
      "1802424     1687095   CERTIFIED   \n",
      "1802425     2408268   CERTIFIED   \n",
      "1802426     1035749   CERTIFIED   \n",
      "1802427      290670   CERTIFIED   \n",
      "1802428     1601611   CERTIFIED   \n",
      "1802429     2555937   CERTIFIED   \n",
      "1802430     1559957   CERTIFIED   \n",
      "1802431     2812414   CERTIFIED   \n",
      "1802433      757654   CERTIFIED   \n",
      "1802435     1728823   CERTIFIED   \n",
      "1802436      252105   CERTIFIED   \n",
      "1802437     1691738   CERTIFIED   \n",
      "1802438     2758684   CERTIFIED   \n",
      "1802439      646277   CERTIFIED   \n",
      "1802441       46809      DENIED   \n",
      "1802442      230022   CERTIFIED   \n",
      "1802443     2639925   CERTIFIED   \n",
      "1802444     2282725   CERTIFIED   \n",
      "1802445       27793   CERTIFIED   \n",
      "1802447      512940   CERTIFIED   \n",
      "1802448      229309   CERTIFIED   \n",
      "1802449     1570345   CERTIFIED   \n",
      "1802450     1113570   CERTIFIED   \n",
      "1802451      826576   CERTIFIED   \n",
      "1802452     1012621   CERTIFIED   \n",
      "1802453     2642182   CERTIFIED   \n",
      "1802455     2643074   CERTIFIED   \n",
      "1802456     1189924   CERTIFIED   \n",
      "1802457      420734   CERTIFIED   \n",
      "\n",
      "                                             EMPLOYER_NAME  \\\n",
      "0                 INTERNATIONAL SYSTEMS TECHNOLOGIES, INC.   \n",
      "1                                              GOOGLE INC.   \n",
      "2                                            WIPRO LIMITED   \n",
      "3                                       CPO SERVICES, INC.   \n",
      "5                      UNIVERSITY OF CALIFORNIA, SAN DIEGO   \n",
      "6                                              GOOGLE INC.   \n",
      "7                                          COMPREHAB, INC.   \n",
      "8                                   JPMORGAN CHASE AND CO.   \n",
      "9                               IRONBRIDGE CONSULTING, LLC   \n",
      "10                                    AXON SOLUTIONS, INC.   \n",
      "11                                   MICROSOFT CORPORATION   \n",
      "12                                        MOBILE IRON INC.   \n",
      "13                                       TECHNIP USA, INC.   \n",
      "14                                COMMVAULT AMERICAS, INC.   \n",
      "15                                            CUMMINS INC.   \n",
      "16              PACIFIC INVESTMENT MANAGEMENT COMPANY, LLC   \n",
      "17       UNIVERSITY OF TEXAS HEALTH SCIENCE CENTER AT S...   \n",
      "18                     HARTE-HANKS DATA TECHNOLOGIES, INC.   \n",
      "19                                      LENORA SYSTEMS INC   \n",
      "20                                         INFOSYS LIMITED   \n",
      "21                          HITACHI CONSULTING CORPORATION   \n",
      "22                                         INFOSYS LIMITED   \n",
      "24                                          FORTINET, INC.   \n",
      "25                                            INDEED, INC.   \n",
      "26                                           CAZARCH, INC.   \n",
      "27                      CREDIT SUISSE SECURITIES (USA) LLC   \n",
      "28                                  JCG TECHNOLOGIES, INC.   \n",
      "29                                       APERI CORPORATION   \n",
      "30                           UPMC EMERGENCY MEDICINE, INC.   \n",
      "31                                 DELOITTE CONSULTING LLP   \n",
      "...                                                    ...   \n",
      "1802423                             ERNST & YOUNG U.S. LLP   \n",
      "1802424                          HYUNDAI DYMOS GEORGIA LLC   \n",
      "1802425                                       TRUSTEK INC.   \n",
      "1802426                  TATA CONSULTANCY SERVICES LIMITED   \n",
      "1802427                              MICROSOFT CORPORATION   \n",
      "1802428                     TECH MAHINDRA ( AMERICAS), INC   \n",
      "1802429                                   RESOURCESOFT INC   \n",
      "1802430                            KANSAS STATE UNIVERSITY   \n",
      "1802431                        IREDELL-STATESVILLE SCHOOLS   \n",
      "1802433                                      WIPRO LIMITED   \n",
      "1802435                                      WIPRO LIMITED   \n",
      "1802436                                 SCINTILLA SOFT INC   \n",
      "1802437             GLOBAL TECHNICAL SOFTWARE SERVICES INC   \n",
      "1802438                           BRIGHAM YOUNG UNIVERSITY   \n",
      "1802439                            HEADSTRONG SERVICES LLC   \n",
      "1802441                     ROBERTSON IMMIGRATION LAW FIRM   \n",
      "1802442                                  3I INFOTECH, INC.   \n",
      "1802443                INTERNATIONAL TECHNOLOGIES PRO, LLC   \n",
      "1802444               CAPGEMINI FINANCIAL SERVICES USA INC   \n",
      "1802445                        ROD CAPITAL MANAGEMENT, LLC   \n",
      "1802447                   LARSEN & TOUBRO INFOTECH LIMITED   \n",
      "1802448                                    DVR SOFTEK, INC   \n",
      "1802449                                     UST GLOBAL INC   \n",
      "1802450                                    LANCESOFT, INC.   \n",
      "1802451                          VARENHORST ARCHITECTS, PC   \n",
      "1802452                                   DELOITTE TAX LLP   \n",
      "1802453                UNIVERSITY OF CALIFORNIA, SAN DIEGO   \n",
      "1802455  UNIVERSITY OF TEXAS HEALTH SCIENCE CENTER AT S...   \n",
      "1802456                                         SYNTEL INC   \n",
      "1802457           REED ELSEVIER INC. (LEXISNEXIS DIVISION)   \n",
      "\n",
      "                                                  SOC_NAME  \\\n",
      "0                                     Computer Programmers   \n",
      "1              NETWORK AND COMPUTER SYSTEMS ADMINISTRATORS   \n",
      "2                          Computer Occupations, All Other   \n",
      "3                              Orthotists and Prosthetists   \n",
      "5               MEDICAL SCIENTISTS, EXCEPT EPIDEMIOLOGISTS   \n",
      "6                Computer Software Engineers, Applications   \n",
      "7                                      PHYSICAL THERAPISTS   \n",
      "8                        Software Developers, Applications   \n",
      "9        Information Security Analysts, Web Developers,...   \n",
      "10                               Computer Systems Analysts   \n",
      "11                       Software Developers, Applications   \n",
      "12                   Software Developers, Systems Software   \n",
      "13                                      Chemical Engineers   \n",
      "14                               Computer Systems Analysts   \n",
      "15                                    Mechanical Engineers   \n",
      "16       Securities, Commodities, and Financial Service...   \n",
      "17              HEALTH SPECIALTIES TEACHERS, POSTSECONDARY   \n",
      "18                                      Marketing Managers   \n",
      "19                               Computer Systems Analysts   \n",
      "20                                COMPUTER SYSTEMS ANALYST   \n",
      "21                       Software Developers, Applications   \n",
      "22                               Computer Systems Analysts   \n",
      "24                         COMPUTER OCCUPATIONS, ALL OTHER   \n",
      "25       MARKET RESEARCH ANALYSTS AND MARKETING SPECIAL...   \n",
      "26                        Architectural and Civil Drafters   \n",
      "27                                Accountants and Auditors   \n",
      "28                                    Computer Programmers   \n",
      "29                             COMPUTER HARDWARE ENGINEERS   \n",
      "30                      Physicians and Surgeons, All Other   \n",
      "31                               Computer Systems Analysts   \n",
      "...                                                    ...   \n",
      "1802423                                Management Analysts   \n",
      "1802424                                 Financial Analysts   \n",
      "1802425                            Database Administrators   \n",
      "1802426                          COMPUTER SYSTEMS ANALYSTS   \n",
      "1802427                  SOFTWARE DEVELOPERS, APPLICATIONS   \n",
      "1802428                    Computer Occupations, All Other   \n",
      "1802429                            Database Administrators   \n",
      "1802430                   Biological Scientists, All Other   \n",
      "1802431  Middle School Teachers, Except Special and Voc...   \n",
      "1802433                    COMPUTER OCCUPATIONS, ALL OTHER   \n",
      "1802435                    Computer Occupations, All Other   \n",
      "1802436                               COMPUTER PROGRAMMERS   \n",
      "1802437                          Computer Systems Analysts   \n",
      "1802438                                           Chemists   \n",
      "1802439                                    SALES ENGINEERS   \n",
      "1802441  MARKET RESEARCH ANALYSTS AND MARKETING SPECIAL...   \n",
      "1802442                               COMPUTER PROGRAMMERS   \n",
      "1802443                  Software Developers, Applications   \n",
      "1802444          Computer and Information Systems Managers   \n",
      "1802445                                MANAGEMENT ANALYSTS   \n",
      "1802447                         COMPUTER SYSTEMS ENGINEERS   \n",
      "1802448                               COMPUTER PROGRAMMERS   \n",
      "1802449                Commercial and Industrial Designers   \n",
      "1802450                                MANAGEMENT ANALYSTS   \n",
      "1802451                   ARCHITECTURAL AND CIVIL DRAFTERS   \n",
      "1802452                           ACCOUNTANTS AND AUDITORS   \n",
      "1802453                Engineering Teachers, Postsecondary   \n",
      "1802455         Medical Scientists, Except Epidemiologists   \n",
      "1802456                          COMPUTER SYSTEMS ANALYSTS   \n",
      "1802457              SOFTWARE DEVELOPERS, SYSTEMS SOFTWARE   \n",
      "\n",
      "                                                 JOB_TITLE FULL_TIME_POSITION  \\\n",
      "0                                       PROGRAMMER ANALYST                  Y   \n",
      "1                                SITE RELIABILITY ENGINEER                  Y   \n",
      "2                                          PROJECT MANAGER                  Y   \n",
      "3                                        STAFF PROSTHETIST                  Y   \n",
      "5                              ASSISTANT PROJECT SCIENTIST                  Y   \n",
      "6                                        SOFTWARE ENGINEER                  Y   \n",
      "7                                       PHYSICAL THERAPIST                  N   \n",
      "8                                   APPLICATIONS DEVELOPER                  Y   \n",
      "9                       SOFTWARE ENGINEER/ NETWORK ANALYST                  Y   \n",
      "10                                     MANAGING CONSULTANT                  Y   \n",
      "11                   SOFTWARE DEVELOPMENT ENGINEER IN TEST                  Y   \n",
      "12                                        SYSTEMS ENGINEER                  Y   \n",
      "13                                   FACILITIES SPECIALIST                  Y   \n",
      "14                                           SYSTEM TESTER                  Y   \n",
      "15       SENIOR MECHANICAL ENGINEER - PERFORMANCE IMPRO...                  Y   \n",
      "16                       VICE PRESIDENT, PORTFOLIO MANAGER                  Y   \n",
      "17                                     ASSISTANT PROFESSOR                  Y   \n",
      "18                               ASSOCIATE PRODUCT MANAGER                  Y   \n",
      "19                                      PROGRAMMER ANALYST                  Y   \n",
      "20                                    TECHNOLOGY LEAD - US                  Y   \n",
      "21                                       SOFTWARE ENGINEER                  Y   \n",
      "22                                            PROJECT LEAD                  Y   \n",
      "24                         CARRIER READINESS TEST ENGINEER                  Y   \n",
      "25                                   ONLINE MARKET ANALYST                  N   \n",
      "26                                   ARCHITETURAL DESIGNER                  Y   \n",
      "27                                      EXEMPT NON-OFFICER                  Y   \n",
      "28                                     COMPUTER PROGRAMMER                  Y   \n",
      "29                                        SYSTEMS ENGINEER                  Y   \n",
      "30                                             HOSPITALIST                  Y   \n",
      "31                                              CONSULTANT                  Y   \n",
      "...                                                    ...                ...   \n",
      "1802423                                         TAS SENIOR                  Y   \n",
      "1802424                               FINANCIAL SPECIALIST                  Y   \n",
      "1802425                                     SQL SERVER DBA                  Y   \n",
      "1802426                                            ANALYST                  Y   \n",
      "1802427                                  SOFTWARE ENGINEER                  Y   \n",
      "1802428                             SOFTWARE TEST ENGINEER                  Y   \n",
      "1802429                             DATABASE ADMINISTRATOR                  Y   \n",
      "1802430                             WEB/DATABASE DEVELOPER                  Y   \n",
      "1802431                                        ESL TEACHER                  Y   \n",
      "1802433                              TEST ENGINEER LEVEL 1                  Y   \n",
      "1802435                                      LEAD ENGINEER                  Y   \n",
      "1802436                                 PROGRAMMER ANALYST                  N   \n",
      "1802437                                    SYSTEMS ANALYST                  Y   \n",
      "1802438      POST DOCTORAL RESEARCH ASSISTANT IN CHEMISTRY                  Y   \n",
      "1802439                       BUSINESS DEVELOPMENT MANAGER                  Y   \n",
      "1802441                               MARKETING SPECIALIST                  N   \n",
      "1802442                                 PROGRAMMER ANALYST                  N   \n",
      "1802443                                      QA SPECIALIST                  Y   \n",
      "1802444                                            MANAGER                  Y   \n",
      "1802445                                 OPERATIONS ANALYST                  N   \n",
      "1802447                          COMPUTER SYSTEMS ENGINEER                  N   \n",
      "1802448                                 PROGRAMMER ANALYST                  Y   \n",
      "1802449                        ENGINEERING LEAD-MECHANICAL                  Y   \n",
      "1802450                            BUSINESS SYSTEM ANALYST                  Y   \n",
      "1802451                              ARCHITECTURAL DRAFTER                  Y   \n",
      "1802452                                         TAX SENIOR                  Y   \n",
      "1802453                                ASSISTANT PROFESSOR                  Y   \n",
      "1802455                       POSTDOCTORAL RESEARCH FELLOW                  Y   \n",
      "1802456                                 PROGRAMMER ANALYST                  Y   \n",
      "1802457                              SOFTWARE ENGINEER III                  Y   \n",
      "\n",
      "         PREVAILING_WAGE    YEAR                          WORKSITE  \\\n",
      "0                61589.0  2014.0             SUNNYVALE, CALIFORNIA   \n",
      "1                79144.0  2015.0         SAN FRANCISCO, CALIFORNIA   \n",
      "2                73882.0  2014.0            EL SEGUNDO, CALIFORNIA   \n",
      "3                61589.0  2011.0                  PEORIA, ILLINOIS   \n",
      "5                42120.0  2015.0              LA JOLLA, CALIFORNIA   \n",
      "6                82035.0  2011.0         MOUNTAIN VIEW, CALIFORNIA   \n",
      "7                64168.0  2016.0          GASTONIA, NORTH CAROLINA   \n",
      "8                92726.0  2012.0                    COLUMBUS, OHIO   \n",
      "9                57866.0  2011.0               ARLINGTON, VIRGINIA   \n",
      "10               91998.0  2014.0        UNIVERSAL CITY, CALIFORNIA   \n",
      "11               86278.0  2013.0               REDMOND, WASHINGTON   \n",
      "12              103709.0  2012.0         MOUNTAIN VIEW, CALIFORNIA   \n",
      "13               75298.0  2014.0                    HOUSTON, TEXAS   \n",
      "14               74651.0  2013.0             OCEANPORT, NEW JERSEY   \n",
      "15               66019.0  2011.0                FRIDLEY, MINNESOTA   \n",
      "16               57949.0  2014.0         NEWPORT BEACH, CALIFORNIA   \n",
      "17               96277.0  2015.0                SAN ANTONIO, TEXAS   \n",
      "18               55931.0  2011.0       LINTHICUM HEIGHTS, MARYLAND   \n",
      "19               57075.0  2014.0                     DALLAS, TEXAS   \n",
      "20               89149.0  2016.0             SUNNYVALE, CALIFORNIA   \n",
      "21               73174.0  2013.0               REDMOND, WASHINGTON   \n",
      "22               76315.0  2012.0                    TAMPA, FLORIDA   \n",
      "24               77563.0  2015.0             SUNNYVALE, CALIFORNIA   \n",
      "25               60258.0  2016.0                     AUSTIN, TEXAS   \n",
      "26               40685.0  2013.0                BROOKLYN, NEW YORK   \n",
      "27               55370.0  2013.0                NEW YORK, NEW YORK   \n",
      "28               67995.0  2011.0        WESTBOROUGH, MASSACHUSETTS   \n",
      "29               66200.0  2015.0             CAMARILLO, CALIFORNIA   \n",
      "30               81994.0  2012.0          GREENVILLE, PENNSYLVANIA   \n",
      "31               75899.0  2014.0         BALA CYNWYD, PENNSYLVANIA   \n",
      "...                  ...     ...                               ...   \n",
      "1802423          93538.0  2014.0         SAN FRANCISCO, CALIFORNIA   \n",
      "1802424          49088.0  2014.0               WEST POINT, GEORGIA   \n",
      "1802425          60154.0  2012.0      SOUTH PLAINFIELD, NEW JERSEY   \n",
      "1802426          41163.0  2015.0             SAN JUAN, PUERTO RICO   \n",
      "1802427         101088.0  2016.0               REDMOND, WASHINGTON   \n",
      "1802428          77938.0  2014.0                 RICHARDSON, TEXAS   \n",
      "1802429          53498.0  2012.0             BOSTON, MASSACHUSETTS   \n",
      "1802430          40706.0  2014.0                 MANHATTAN, KANSAS   \n",
      "1802431          37987.0  2011.0          TROUTMAN, NORTH CAROLINA   \n",
      "1802433          60528.0  2015.0             PALO ALTO, CALIFORNIA   \n",
      "1802435          62878.0  2014.0              WILMINGTON, DELAWARE   \n",
      "1802436          54850.0  2016.0           LOS ANGELES, CALIFORNIA   \n",
      "1802437          65416.0  2014.0                       AKRON, OHIO   \n",
      "1802438          35298.0  2011.0                       PROVO, UTAH   \n",
      "1802439          86986.0  2016.0                NEW YORK, NEW YORK   \n",
      "1802441          37752.0  2016.0           RALEIGH, NORTH CAROLINA   \n",
      "1802442          51730.0  2016.0                EDISON, NEW JERSEY   \n",
      "1802443          70491.0  2012.0  WASHINGTON, DISTRICT OF COLUMBIA   \n",
      "1802444          91270.0  2012.0         CHARLOTTE, NORTH CAROLINA   \n",
      "1802445          56035.0  2016.0                VENICE, CALIFORNIA   \n",
      "1802447          63856.0  2016.0               ST. PAUL, MINNESOTA   \n",
      "1802448          73632.0  2016.0            OWINGS MILLS, MARYLAND   \n",
      "1802449          51542.0  2014.0              SOUTHFIELD, MICHIGAN   \n",
      "1802450          42661.0  2015.0         CHARLOTTE, NORTH CAROLINA   \n",
      "1802451          33051.0  2015.0        PHILADELPHIA, PENNSYLVANIA   \n",
      "1802452          74110.0  2015.0                NEW YORK, NEW YORK   \n",
      "1802453          67530.0  2012.0              LA JOLLA, CALIFORNIA   \n",
      "1802455          34382.0  2012.0                SAN ANTONIO, TEXAS   \n",
      "1802456          58677.0  2015.0               SCOTTSDALE, ARIZONA   \n",
      "1802457          88005.0  2016.0           RALEIGH, NORTH CAROLINA   \n",
      "\n",
      "                lon        lat  \n",
      "0       -122.036350  37.368830  \n",
      "1       -122.419415  37.774929  \n",
      "2       -118.416465  33.919180  \n",
      "3        -89.588986  40.693649  \n",
      "5       -117.271272  32.832811  \n",
      "6       -122.083851  37.386052  \n",
      "7        -81.187301  35.262082  \n",
      "8        -82.998794  39.961176  \n",
      "9        -77.106770  38.879970  \n",
      "10      -118.350578  34.139769  \n",
      "11      -122.121512  47.673988  \n",
      "12      -122.083851  37.386052  \n",
      "13       -95.369803  29.760427  \n",
      "14       -74.015138  40.318166  \n",
      "15       -93.263282  45.086077  \n",
      "16      -117.928947  33.618910  \n",
      "17       -98.493628  29.424122  \n",
      "18       -76.652746  39.205108  \n",
      "19       -96.796988  32.776664  \n",
      "20      -122.036350  37.368830  \n",
      "21      -122.121512  47.673988  \n",
      "22       -82.457178  27.950575  \n",
      "24      -122.036350  37.368830  \n",
      "25       -97.743061  30.267153  \n",
      "26       -73.944158  40.678178  \n",
      "27       -74.005941  40.712784  \n",
      "28       -71.616129  42.269522  \n",
      "29      -119.037602  34.216394  \n",
      "30       -80.391179  41.404499  \n",
      "31       -75.230404  40.013142  \n",
      "...             ...        ...  \n",
      "1802423 -122.419415  37.774929  \n",
      "1802424  -85.183275  32.877906  \n",
      "1802425  -74.411540  40.579270  \n",
      "1802426  -66.105735  18.465539  \n",
      "1802427 -122.121512  47.673988  \n",
      "1802428  -96.729852  32.948334  \n",
      "1802429  -71.058880  42.360083  \n",
      "1802430  -96.571669  39.183608  \n",
      "1802431         NaN        NaN  \n",
      "1802433 -122.143020  37.441883  \n",
      "1802435  -75.539788  39.739072  \n",
      "1802436 -118.243685  34.052234  \n",
      "1802437  -81.519005  41.081445  \n",
      "1802438 -111.658534  40.233844  \n",
      "1802439  -74.005941  40.712784  \n",
      "1802441  -78.638179  35.779590  \n",
      "1802442  -74.412095  40.518715  \n",
      "1802443  -77.036871  38.907192  \n",
      "1802444  -80.843127  35.227087  \n",
      "1802445 -118.469483  33.985047  \n",
      "1802447  -93.089958  44.953703  \n",
      "1802448  -76.780253  39.419550  \n",
      "1802449  -83.221873  42.473369  \n",
      "1802450  -80.843127  35.227087  \n",
      "1802451  -75.165222  39.952584  \n",
      "1802452  -74.005941  40.712784  \n",
      "1802453 -117.271272  32.832811  \n",
      "1802455  -98.493628  29.424122  \n",
      "1802456 -111.926052  33.494170  \n",
      "1802457  -78.638179  35.779590  \n",
      "\n",
      "[1626887 rows x 11 columns]\n"
     ]
    }
   ],
   "source": [
    "# Your Code Here\n",
    "df_train =  df_train[(df_train['CASE_STATUS']=='CERTIFIED')|\n",
    "                      (df_train['CASE_STATUS']=='DENIED') ]\n",
    "print(df_train)"
   ]
  },
  {
   "cell_type": "markdown",
   "metadata": {},
   "source": [
    "#### 2-2. Certified와 Denied의 개수를 확인하세요"
   ]
  },
  {
   "cell_type": "code",
   "execution_count": 7,
   "metadata": {
    "ExecuteTime": {
     "end_time": "2018-08-30T06:11:37.777429Z",
     "start_time": "2018-08-30T06:11:37.549071Z"
    }
   },
   "outputs": [
    {
     "data": {
      "text/plain": [
       "CERTIFIED    1570316\n",
       "DENIED         56571\n",
       "Name: CASE_STATUS, dtype: int64"
      ]
     },
     "execution_count": 7,
     "metadata": {},
     "output_type": "execute_result"
    }
   ],
   "source": [
    "# Your Code Here\n",
    "df_train['CASE_STATUS'].value_counts()"
   ]
  },
  {
   "cell_type": "markdown",
   "metadata": {},
   "source": [
    "#### 2-3. Certified는 0, Denied는 1로 바꿔주세요"
   ]
  },
  {
   "cell_type": "code",
   "execution_count": 8,
   "metadata": {
    "ExecuteTime": {
     "end_time": "2018-08-30T06:15:23.343898Z",
     "start_time": "2018-08-30T06:15:22.534812Z"
    }
   },
   "outputs": [],
   "source": [
    "# Your Code Here\n",
    "df_train['CASE_STATUS']=df_train['CASE_STATUS'].replace('CERTIFIED',0).replace('DENIED',1)\n"
   ]
  },
  {
   "cell_type": "code",
   "execution_count": 9,
   "metadata": {
    "ExecuteTime": {
     "end_time": "2018-08-29T07:55:16.350870Z",
     "start_time": "2018-08-29T07:55:16.342431Z"
    }
   },
   "outputs": [
    {
     "data": {
      "text/plain": [
       "0.03477254412875633"
      ]
     },
     "execution_count": 9,
     "metadata": {},
     "output_type": "execute_result"
    }
   ],
   "source": [
    "# DINIED 비율 = 3%\n",
    "Cer_num=df_train['CASE_STATUS'].value_counts()[0]\n",
    "Den_num=df_train['CASE_STATUS'].value_counts()[1]\n",
    "\n",
    "Den_num/(Cer_num+Den_num)"
   ]
  },
  {
   "cell_type": "markdown",
   "metadata": {},
   "source": [
    "#### 3-1. Full_time_position에서 Y는 1, N은 0으로 바꿔주세요"
   ]
  },
  {
   "cell_type": "code",
   "execution_count": 11,
   "metadata": {
    "ExecuteTime": {
     "end_time": "2018-08-30T06:15:47.380261Z",
     "start_time": "2018-08-30T06:15:46.541437Z"
    }
   },
   "outputs": [],
   "source": [
    "# Your Code Here\n",
    "\n",
    "df_train['FULL_TIME_POSITION']=df_train['FULL_TIME_POSITION'].replace('Y',0).replace('N',1)\n"
   ]
  },
  {
   "cell_type": "markdown",
   "metadata": {},
   "source": [
    "#### 4-1. Prevailing_wage 변수를 히스토그램으로 그려보세요"
   ]
  },
  {
   "cell_type": "code",
   "execution_count": 12,
   "metadata": {
    "ExecuteTime": {
     "end_time": "2018-08-29T15:25:08.413782Z",
     "start_time": "2018-08-29T15:25:08.082779Z"
    },
    "scrolled": false
   },
   "outputs": [
    {
     "data": {
      "image/png": "[encoded data removed]",
      "text/plain": [
       "<Figure size 864x288 with 1 Axes>"
      ]
     },
     "metadata": {
      "needs_background": "light"
     },
     "output_type": "display_data"
    }
   ],
   "source": [
    "from matplotlib import pyplot as plt\n",
    "%matplotlib inline\n",
    "\n",
    "plt.subplots(1, 1, figsize=(12, 4))\n",
    "\n",
    "plt.hist(df_train[df_train[\"PREVAILING_WAGE\"]<200000].PREVAILING_WAGE.values,bins=200)\n",
    "\n",
    "plt.xlim([0, 200000])\n",
    "plt.show()"
   ]
  },
  {
   "cell_type": "markdown",
   "metadata": {},
   "source": [
    "#### 4-2. Prevailing_wage 변수를 log 변환하고 다음과 같이 plot을 그려주세요"
   ]
  },
  {
   "cell_type": "code",
   "execution_count": 13,
   "metadata": {},
   "outputs": [
    {
     "data": {
      "text/plain": [
       "0          11.028239\n",
       "1          11.279024\n",
       "2          11.210225\n",
       "3          11.028239\n",
       "5          10.648278\n",
       "6          11.314901\n",
       "7          11.069260\n",
       "8          11.437404\n",
       "9          10.965885\n",
       "10         11.429522\n",
       "11         11.365330\n",
       "12         11.549344\n",
       "13         11.229209\n",
       "14         11.220579\n",
       "15         11.097698\n",
       "16         10.967319\n",
       "17         11.474985\n",
       "18         10.931874\n",
       "19         10.952121\n",
       "20         11.398064\n",
       "21         11.200595\n",
       "22         11.242625\n",
       "24         11.258846\n",
       "25         11.006391\n",
       "26         10.613615\n",
       "27         10.921793\n",
       "28         11.127189\n",
       "29         11.100436\n",
       "30         11.314401\n",
       "31         11.237159\n",
       "             ...    \n",
       "1802423    11.446123\n",
       "1802424    10.801370\n",
       "1802425    11.004663\n",
       "1802426    10.625295\n",
       "1802427    11.523747\n",
       "1802428    11.263669\n",
       "1802429    10.887400\n",
       "1802430    10.614131\n",
       "1802431    10.544999\n",
       "1802433    11.010861\n",
       "1802435    11.048952\n",
       "1802436    10.912357\n",
       "1802437    11.088522\n",
       "1802438    10.471582\n",
       "1802439    11.373502\n",
       "1802441    10.538794\n",
       "1802442    10.853793\n",
       "1802443    11.163240\n",
       "1802444    11.421577\n",
       "1802445    10.933732\n",
       "1802447    11.064386\n",
       "1802448    11.206835\n",
       "1802449    10.850152\n",
       "1802450    10.661040\n",
       "1802451    10.405807\n",
       "1802452    11.213306\n",
       "1802453    11.120327\n",
       "1802455    10.445288\n",
       "1802456    10.979803\n",
       "1802457    11.385149\n",
       "Name: PREVAILING_WAGE, Length: 1626887, dtype: float64"
      ]
     },
     "execution_count": 13,
     "metadata": {},
     "output_type": "execute_result"
    }
   ],
   "source": [
    "# 방법1\n",
    "\n",
    "# df_train['PREVAILING_WAGE'] = np.log(df_train['PREVAILING_WAGE'])\n",
    "# print(df_train['PREVAILING_WAGE'])\n",
    "\n",
    "# 방법2\n",
    "import math\n",
    "df_train['PREVAILING_WAGE']= df_train['PREVAILING_WAGE'].apply(lambda x : math.log(x) if x>0 else 0)\n",
    "df_train['PREVAILING_WAGE']"
   ]
  },
  {
   "cell_type": "code",
   "execution_count": 14,
   "metadata": {
    "ExecuteTime": {
     "end_time": "2018-08-29T15:25:28.770873Z",
     "start_time": "2018-08-29T15:25:28.436716Z"
    }
   },
   "outputs": [
    {
     "data": {
      "text/plain": [
       "(9, 13)"
      ]
     },
     "execution_count": 14,
     "metadata": {},
     "output_type": "execute_result"
    },
    {
     "data": {
      "image/png": "[encoded data removed]",
      "text/plain": [
       "<Figure size 864x288 with 1 Axes>"
      ]
     },
     "metadata": {
      "needs_background": "light"
     },
     "output_type": "display_data"
    }
   ],
   "source": [
    "plt.subplots(1, 1, figsize=(12, 4))\n",
    "# Your Code Here\n",
    "\n",
    "plt.hist(df_train[\"PREVAILING_WAGE\"].values,bins=500)\n",
    "\n",
    "plt.xlim([9, 13])"
   ]
  },
  {
   "cell_type": "markdown",
   "metadata": {},
   "source": [
    "#### 5.1 Employer_name"
   ]
  },
  {
   "cell_type": "code",
   "execution_count": 16,
   "metadata": {
    "ExecuteTime": {
     "end_time": "2018-08-29T15:26:12.121436Z",
     "start_time": "2018-08-29T15:26:08.797286Z"
    }
   },
   "outputs": [
    {
     "data": {
      "text/plain": [
       "898123                       \"I HAVE A DREAM\" FOUNDATION\n",
       "446264                                  \"K\" LINE AMERICA\n",
       "1461640                                 \"K\" LINE AMERICA\n",
       "52568                                   \"K\" LINE AMERICA\n",
       "1419485                                 \"K\" LINE AMERICA\n",
       "1785766                           \"K\" LINE AMERICA, INC.\n",
       "782746                            \"K\" LINE AMERICA, INC.\n",
       "549252                            \"K\" LINE AMERICA, INC.\n",
       "1056834                           \"K\" LINE AMERICA, INC.\n",
       "596871                            \"K\" LINE AMERICA, INC.\n",
       "1684026                 \"K\" LINE LOGISITCS (U.S.A.) INC.\n",
       "45913                        \"K\" LINE LOGISTICS USA INC.\n",
       "758887                       \"K\" LINE LOGISTICS USA INC.\n",
       "1167350                     \"K\" LINE LOGISTICS USA, INC.\n",
       "123895                        &QUOT;K&QUOT; LINE AMERICA\n",
       "97058                            &TV COMMUNICATIONS INC.\n",
       "871877                           &TV COMMUNICATIONS INC.\n",
       "1308957                          &TV COMMUNICATIONS INC.\n",
       "66543                            &TV COMMUNICATIONS INC.\n",
       "7298                            &TV COMMUNICATIONS, INC.\n",
       "1607194                                        &YET, LLC\n",
       "1526654                       'K' LINE LOGISTICS USA INC\n",
       "352853                       'K' LINE LOGISTICS USA INC.\n",
       "1449122                      'K' LINE LOGISTICS USA INC.\n",
       "449194               (AMBI)DEXTROUS ASSET MANAGEMENT LLC\n",
       "1362399    (HOUSEHOLD OF SANDRA SIRUGO & JORGE D. JAURY)\n",
       "1167265    (HOUSEHOLD OF SANDRA SIRUGO & JORGE E. JAURY)\n",
       "924098     (HOUSEHOLD OF SANDRA SIRUGO & JORGE E. JAURY)\n",
       "374406                              +421 FOUNDATION INC.\n",
       "1490611                             +VANTAGE CORPORATION\n",
       "                               ...                      \n",
       "671362                                         ZYTUS,INC\n",
       "1483253                                        ZYTUS,INC\n",
       "1054608                                        ZYTUS,INC\n",
       "705294                                        ZYWIE INC.\n",
       "697104                                        ZYWIE INC.\n",
       "482682                        ZYXEL COMMUNICATIONS, INC.\n",
       "1294846                       ZYXEL COMMUNICATIONS, INC.\n",
       "808800                        ZYXEL COMMUNICATIONS, INC.\n",
       "1207733                       ZYXEL COMMUNICATIONS, INC.\n",
       "1269913                       ZYXEL COMMUNICATIONS, INC.\n",
       "1438972                       ZYXEL COMMUNICATIONS, INC.\n",
       "875451                        ZYXEL COMMUNICATIONS, INC.\n",
       "995451                                        ZZIPCO LLC\n",
       "826271                                       ZZIPCO, LLC\n",
       "759068                             [X+1] SOLUTIONS, INC.\n",
       "1094290                            ÈZE BULLES DRINKS LLC\n",
       "755131                                        ÉTUDES LLC\n",
       "912543                                       ÉTUDES, LLC\n",
       "102272                                               NaN\n",
       "116676                                               NaN\n",
       "409735                                               NaN\n",
       "510101                                               NaN\n",
       "619827                                               NaN\n",
       "743505                                               NaN\n",
       "946503                                               NaN\n",
       "1232526                                              NaN\n",
       "1252774                                              NaN\n",
       "1456977                                              NaN\n",
       "1621574                                              NaN\n",
       "1734208                                              NaN\n",
       "Name: EMPLOYER_NAME, Length: 1626887, dtype: object"
      ]
     },
     "execution_count": 16,
     "metadata": {},
     "output_type": "execute_result"
    }
   ],
   "source": [
    "# EMPLOYER_NAME을 보면 텍스트 전처리가 필요해 보입니다. \n",
    "# Punctuation이 문제인 것 같습니다.\n",
    "\n",
    "df_train['EMPLOYER_NAME'].sort_values()"
   ]
  },
  {
   "cell_type": "markdown",
   "metadata": {},
   "source": [
    "#### 5.2 EMPLOYER_NAME의 쉼표와 온점을 지워주세요"
   ]
  },
  {
   "cell_type": "code",
   "execution_count": 17,
   "metadata": {
    "ExecuteTime": {
     "end_time": "2018-08-30T06:16:58.696017Z",
     "start_time": "2018-08-30T06:16:57.577519Z"
    }
   },
   "outputs": [
    {
     "data": {
      "text/plain": [
       "0                     INTERNATIONAL SYSTEMS TECHNOLOGIES INC\n",
       "1                                                 GOOGLE INC\n",
       "2                                              WIPRO LIMITED\n",
       "3                                           CPO SERVICES INC\n",
       "5                         UNIVERSITY OF CALIFORNIA SAN DIEGO\n",
       "6                                                 GOOGLE INC\n",
       "7                                              COMPREHAB INC\n",
       "8                                      JPMORGAN CHASE AND CO\n",
       "9                                  IRONBRIDGE CONSULTING LLC\n",
       "10                                        AXON SOLUTIONS INC\n",
       "11                                     MICROSOFT CORPORATION\n",
       "12                                           MOBILE IRON INC\n",
       "13                                           TECHNIP USA INC\n",
       "14                                    COMMVAULT AMERICAS INC\n",
       "15                                               CUMMINS INC\n",
       "16                 PACIFIC INVESTMENT MANAGEMENT COMPANY LLC\n",
       "17         UNIVERSITY OF TEXAS HEALTH SCIENCE CENTER AT S...\n",
       "18                         HARTE-HANKS DATA TECHNOLOGIES INC\n",
       "19                                        LENORA SYSTEMS INC\n",
       "20                                           INFOSYS LIMITED\n",
       "21                            HITACHI CONSULTING CORPORATION\n",
       "22                                           INFOSYS LIMITED\n",
       "24                                              FORTINET INC\n",
       "25                                                INDEED INC\n",
       "26                                               CAZARCH INC\n",
       "27                        CREDIT SUISSE SECURITIES (USA) LLC\n",
       "28                                      JCG TECHNOLOGIES INC\n",
       "29                                         APERI CORPORATION\n",
       "30                               UPMC EMERGENCY MEDICINE INC\n",
       "31                                   DELOITTE CONSULTING LLP\n",
       "                                 ...                        \n",
       "1802423                                 ERNST & YOUNG US LLP\n",
       "1802424                            HYUNDAI DYMOS GEORGIA LLC\n",
       "1802425                                          TRUSTEK INC\n",
       "1802426                    TATA CONSULTANCY SERVICES LIMITED\n",
       "1802427                                MICROSOFT CORPORATION\n",
       "1802428                        TECH MAHINDRA ( AMERICAS) INC\n",
       "1802429                                     RESOURCESOFT INC\n",
       "1802430                              KANSAS STATE UNIVERSITY\n",
       "1802431                          IREDELL-STATESVILLE SCHOOLS\n",
       "1802433                                        WIPRO LIMITED\n",
       "1802435                                        WIPRO LIMITED\n",
       "1802436                                   SCINTILLA SOFT INC\n",
       "1802437               GLOBAL TECHNICAL SOFTWARE SERVICES INC\n",
       "1802438                             BRIGHAM YOUNG UNIVERSITY\n",
       "1802439                              HEADSTRONG SERVICES LLC\n",
       "1802441                       ROBERTSON IMMIGRATION LAW FIRM\n",
       "1802442                                      3I INFOTECH INC\n",
       "1802443                   INTERNATIONAL TECHNOLOGIES PRO LLC\n",
       "1802444                 CAPGEMINI FINANCIAL SERVICES USA INC\n",
       "1802445                           ROD CAPITAL MANAGEMENT LLC\n",
       "1802447                     LARSEN & TOUBRO INFOTECH LIMITED\n",
       "1802448                                       DVR SOFTEK INC\n",
       "1802449                                       UST GLOBAL INC\n",
       "1802450                                        LANCESOFT INC\n",
       "1802451                             VARENHORST ARCHITECTS PC\n",
       "1802452                                     DELOITTE TAX LLP\n",
       "1802453                   UNIVERSITY OF CALIFORNIA SAN DIEGO\n",
       "1802455    UNIVERSITY OF TEXAS HEALTH SCIENCE CENTER AT S...\n",
       "1802456                                           SYNTEL INC\n",
       "1802457              REED ELSEVIER INC (LEXISNEXIS DIVISION)\n",
       "Name: EMPLOYER_NAME, Length: 1626887, dtype: object"
      ]
     },
     "execution_count": 17,
     "metadata": {},
     "output_type": "execute_result"
    }
   ],
   "source": [
    "df_train['EMPLOYER_NAME']=df_train['EMPLOYER_NAME'].str.replace('.','').str.replace(',','')\n",
    "df_train['EMPLOYER_NAME']\n"
   ]
  },
  {
   "cell_type": "markdown",
   "metadata": {},
   "source": [
    "#### 5.3 EMPLOYER_NAME 변수의 빈도를 이용해 다음과 같은 plot을 그려주세요"
   ]
  },
  {
   "cell_type": "code",
   "execution_count": 18,
   "metadata": {
    "ExecuteTime": {
     "end_time": "2018-08-29T07:43:19.946084Z",
     "start_time": "2018-08-29T07:43:18.391891Z"
    },
    "scrolled": true
   },
   "outputs": [
    {
     "data": {
      "text/plain": [
       "<matplotlib.axes._subplots.AxesSubplot at 0x21a522e2630>"
      ]
     },
     "execution_count": 18,
     "metadata": {},
     "output_type": "execute_result"
    },
    {
     "data": {
      "image/png": "[encoded data removed]",
      "text/plain": [
       "<Figure size 432x288 with 1 Axes>"
      ]
     },
     "metadata": {
      "needs_background": "light"
     },
     "output_type": "display_data"
    }
   ],
   "source": [
    "grouped = df_train['EMPLOYER_NAME'].groupby(df_train['EMPLOYER_NAME']).size()\n",
    "grouped.sort_values(ascending=False)[:20].plot(kind='barh')\n",
    "\n"
   ]
  },
  {
   "cell_type": "markdown",
   "metadata": {},
   "source": [
    "#### 6.1 SOC_NAME 변수의 빈도를 이용해 다음과 같은 plot을 그려주세요"
   ]
  },
  {
   "cell_type": "code",
   "execution_count": 19,
   "metadata": {
    "ExecuteTime": {
     "end_time": "2018-08-29T16:00:07.447610Z",
     "start_time": "2018-08-29T16:00:06.949207Z"
    },
    "scrolled": false
   },
   "outputs": [
    {
     "data": {
      "text/plain": [
       "<matplotlib.axes._subplots.AxesSubplot at 0x21a5b6b2940>"
      ]
     },
     "execution_count": 19,
     "metadata": {},
     "output_type": "execute_result"
    },
    {
     "data": {
      "image/png": "[encoded data removed]",
      "text/plain": [
       "<Figure size 432x288 with 1 Axes>"
      ]
     },
     "metadata": {
      "needs_background": "light"
     },
     "output_type": "display_data"
    }
   ],
   "source": [
    "\n",
    "df_train['SOC_NAME']=df_train['SOC_NAME'].apply(lambda x : str(x).upper())\n",
    "grouped = df_train['SOC_NAME'].groupby(df_train['SOC_NAME']).size()\n",
    "grouped.sort_values(ascending=False)[:20].plot(kind='barh')\n"
   ]
  },
  {
   "cell_type": "markdown",
   "metadata": {},
   "source": [
    "#### 6.2 Year 변수를 이용해 연도별로 CASE_STATUS에 따라 빈도를 나타낸 plot을 그려주세요"
   ]
  },
  {
   "cell_type": "code",
   "execution_count": 20,
   "metadata": {
    "ExecuteTime": {
     "end_time": "2018-08-29T15:26:52.849042Z",
     "start_time": "2018-08-29T15:26:52.339097Z"
    },
    "scrolled": false
   },
   "outputs": [
    {
     "data": {
      "image/png": "[encoded data removed]",
      "text/plain": [
       "<Figure size 1080x432 with 1 Axes>"
      ]
     },
     "metadata": {
      "needs_background": "light"
     },
     "output_type": "display_data"
    },
    {
     "data": {
      "text/html": [
       "<div>\n",
       "<style scoped>\n",
       "    .dataframe tbody tr th:only-of-type {\n",
       "        vertical-align: middle;\n",
       "    }\n",
       "\n",
       "    .dataframe tbody tr th {\n",
       "        vertical-align: top;\n",
       "    }\n",
       "\n",
       "    .dataframe thead th {\n",
       "        text-align: right;\n",
       "    }\n",
       "</style>\n",
       "<table border=\"1\" class=\"dataframe\">\n",
       "  <thead>\n",
       "    <tr style=\"text-align: right;\">\n",
       "      <th></th>\n",
       "      <th>YEAR</th>\n",
       "      <th>CASE_STATUS</th>\n",
       "      <th>SOC_NAME</th>\n",
       "    </tr>\n",
       "  </thead>\n",
       "  <tbody>\n",
       "    <tr>\n",
       "      <th>0</th>\n",
       "      <td>2011.0</td>\n",
       "      <td>0</td>\n",
       "      <td>185377</td>\n",
       "    </tr>\n",
       "    <tr>\n",
       "      <th>1</th>\n",
       "      <td>2011.0</td>\n",
       "      <td>1</td>\n",
       "      <td>17490</td>\n",
       "    </tr>\n",
       "    <tr>\n",
       "      <th>2</th>\n",
       "      <td>2012.0</td>\n",
       "      <td>0</td>\n",
       "      <td>211666</td>\n",
       "    </tr>\n",
       "    <tr>\n",
       "      <th>3</th>\n",
       "      <td>2012.0</td>\n",
       "      <td>1</td>\n",
       "      <td>12642</td>\n",
       "    </tr>\n",
       "    <tr>\n",
       "      <th>4</th>\n",
       "      <td>2013.0</td>\n",
       "      <td>0</td>\n",
       "      <td>229567</td>\n",
       "    </tr>\n",
       "    <tr>\n",
       "      <th>5</th>\n",
       "      <td>2013.0</td>\n",
       "      <td>1</td>\n",
       "      <td>7313</td>\n",
       "    </tr>\n",
       "    <tr>\n",
       "      <th>6</th>\n",
       "      <td>2014.0</td>\n",
       "      <td>0</td>\n",
       "      <td>272827</td>\n",
       "    </tr>\n",
       "    <tr>\n",
       "      <th>7</th>\n",
       "      <td>2014.0</td>\n",
       "      <td>1</td>\n",
       "      <td>7121</td>\n",
       "    </tr>\n",
       "    <tr>\n",
       "      <th>8</th>\n",
       "      <td>2015.0</td>\n",
       "      <td>0</td>\n",
       "      <td>328894</td>\n",
       "    </tr>\n",
       "    <tr>\n",
       "      <th>9</th>\n",
       "      <td>2015.0</td>\n",
       "      <td>1</td>\n",
       "      <td>6530</td>\n",
       "    </tr>\n",
       "    <tr>\n",
       "      <th>10</th>\n",
       "      <td>2016.0</td>\n",
       "      <td>0</td>\n",
       "      <td>341985</td>\n",
       "    </tr>\n",
       "    <tr>\n",
       "      <th>11</th>\n",
       "      <td>2016.0</td>\n",
       "      <td>1</td>\n",
       "      <td>5475</td>\n",
       "    </tr>\n",
       "  </tbody>\n",
       "</table>\n",
       "</div>"
      ],
      "text/plain": [
       "      YEAR  CASE_STATUS  SOC_NAME\n",
       "0   2011.0            0    185377\n",
       "1   2011.0            1     17490\n",
       "2   2012.0            0    211666\n",
       "3   2012.0            1     12642\n",
       "4   2013.0            0    229567\n",
       "5   2013.0            1      7313\n",
       "6   2014.0            0    272827\n",
       "7   2014.0            1      7121\n",
       "8   2015.0            0    328894\n",
       "9   2015.0            1      6530\n",
       "10  2016.0            0    341985\n",
       "11  2016.0            1      5475"
      ]
     },
     "execution_count": 20,
     "metadata": {},
     "output_type": "execute_result"
    }
   ],
   "source": [
    "\n",
    "#  방법 1\n",
    "# case_year  =  df_train.groupby(['YEAR','CASE_STATUS']).size().unstack()\n",
    "# case_year.plot(kind=\"bar\")\n",
    "# fig = plt.gcf()\n",
    "# fig.set_size_inches(15,6)\n",
    "# plt.title('Case Status by Year')\n",
    "# plt.show()\n",
    "# case_year\n",
    "\n",
    "#  방법 2\n",
    "import seaborn as sns\n",
    "case_year = df_train[['YEAR','CASE_STATUS','SOC_NAME']].groupby(['YEAR','CASE_STATUS']).count().reset_index()\n",
    "\n",
    "sns.barplot(x=\"YEAR\",y=\"SOC_NAME\", hue=\"CASE_STATUS\", data = case_year)\n",
    "fig = plt.gcf()\n",
    "fig.set_size_inches(15,6)\n",
    "plt.title('Case Status by Year')\n",
    "plt.show()\n",
    "case_year\n"
   ]
  },
  {
   "cell_type": "code",
   "execution_count": 21,
   "metadata": {
    "ExecuteTime": {
     "end_time": "2018-08-29T15:26:56.846699Z",
     "start_time": "2018-08-29T15:26:56.839755Z"
    }
   },
   "outputs": [
    {
     "data": {
      "text/plain": [
       "array([0.91378588, 0.94364   , 0.96912783, 0.97456313, 0.9805321 ,\n",
       "       0.98424279])"
      ]
     },
     "execution_count": 21,
     "metadata": {},
     "output_type": "execute_result"
    }
   ],
   "source": [
    "# 연도에 따라 certificated 비율이 늘어나고 있습니다.\n",
    "\n",
    "count_cer = case_year.loc[case_year['CASE_STATUS'] == 0]\n",
    "count_de = case_year.loc[case_year['CASE_STATUS'] == 1]\n",
    "rate = count_cer['SOC_NAME'].values / (count_cer['SOC_NAME'].values + count_de['SOC_NAME'].values)\n",
    "rate"
   ]
  },
  {
   "cell_type": "markdown",
   "metadata": {},
   "source": [
    "# 고생하셨습니다 :)"
   ]
  }
 ],
 "metadata": {
  "kernelspec": {
   "display_name": "Python 3",
   "language": "python",
   "name": "python3"
  },
  "language_info": {
   "codemirror_mode": {
    "name": "ipython",
    "version": 3
   },
   "file_extension": ".py",
   "mimetype": "text/x-python",
   "name": "python",
   "nbconvert_exporter": "python",
   "pygments_lexer": "ipython3",
   "version": "3.6.8"
  },
  "latex_envs": {
   "LaTeX_envs_menu_present": true,
   "autoclose": false,
   "autocomplete": true,
   "bibliofile": "biblio.bib",
   "cite_by": "apalike",
   "current_citInitial": 1,
   "eqLabelWithNumbers": true,
   "eqNumInitial": 1,
   "hotkeys": {
    "equation": "Ctrl-E",
    "itemize": "Ctrl-I"
   },
   "labels_anchors": false,
   "latex_user_defs": false,
   "report_style_numbering": false,
   "user_envs_cfg": false
  },
  "toc": {
   "base_numbering": 1,
   "nav_menu": {},
   "number_sections": false,
   "sideBar": true,
   "skip_h1_title": false,
   "title_cell": "Table of Contents",
   "title_sidebar": "Contents",
   "toc_cell": false,
   "toc_position": {},
   "toc_section_display": true,
   "toc_window_display": false
  },
  "varInspector": {
   "cols": {
    "lenName": 16,
    "lenType": 16,
    "lenVar": 40
   },
   "kernels_config": {
    "python": {
     "delete_cmd_postfix": "",
     "delete_cmd_prefix": "del ",
     "library": "var_list.py",
     "varRefreshCmd": "print(var_dic_list())"
    },
    "r": {
     "delete_cmd_postfix": ") ",
     "delete_cmd_prefix": "rm(",
     "library": "var_list.r",
     "varRefreshCmd": "cat(var_dic_list()) "
    }
   },
   "types_to_exclude": [
    "module",
    "function",
    "builtin_function_or_method",
    "instance",
    "_Feature"
   ],
   "window_display": false
  }
 },
 "nbformat": 4,
 "nbformat_minor": 2
}
