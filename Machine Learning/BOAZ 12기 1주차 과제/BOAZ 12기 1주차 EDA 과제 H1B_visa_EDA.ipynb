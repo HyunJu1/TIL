{
 "cells": [
  {
   "cell_type": "markdown",
   "metadata": {},
   "source": [
    "## H1B Visa\n",
    "\n",
    "- 첫 세션에서 다루지 못한 내용들이 많습니다 \n",
    "- [이곳](https://www.kaggle.com/nsharan/h-1b-visa/kernels)의 kaggle kernel을 참고해 문제를 풀어주세요\n",
    "- EDA에 자주 쓰이지만 매우 기초적인 함수만 사용했습니다"
   ]
  },
  {
   "cell_type": "markdown",
   "metadata": {},
   "source": [
    "### Attribute Information\n",
    "\n",
    "- __CASE_STATUS__\n",
    "    - The CASE_STATUS field denotes the status of the application after LCA processing. Certified applications are filed with USCIS for H-1B approval.\n",
    "<br>\n",
    "<br>\n",
    "- EMPLOYER_NAME\n",
    "    - Name of the employer submitting labor condition application.\n",
    "<br>\n",
    "<br>\n",
    "- SOC_NAME\n",
    "    - Occupational name associated with the SOC_CODE. SOC_CODE is the occupational code associated with the job being requested for temporary labor condition, as classified by the Standard Occupational Classification (SOC) System.\n",
    "<br>\n",
    "<br>\n",
    "- JOB_TITLE\n",
    "    - Title of the job.\n",
    "<br>\n",
    "<br>\n",
    "- FULL_TIME_POSITION\n",
    "    - Y = Full Time Position; N = Part Time Position.\n",
    "<br>\n",
    "<br>\n",
    "- PREVAILING_WAGE\n",
    "    - Prevailing Wage for the job being requested for temporary labor condition. The wage is listed at annual scale in USD. The prevailing wage for a job position is defined as the average wage paid to similarly employed workers in the requested occupation in the area of intended employment. The prevailing wage is based on the employer’s minimum requirements for the position.\n",
    "<br>\n",
    "<br>\n",
    "- YEAR\n",
    "    - Year in which the H-1B visa petition was filed.\n",
    "<br>\n",
    "<br>"
   ]
  },
  {
   "cell_type": "markdown",
   "metadata": {},
   "source": [
    "# EDA"
   ]
  },
  {
   "cell_type": "code",
   "execution_count": null,
   "metadata": {
    "ExecuteTime": {
     "end_time": "2018-08-30T08:21:27.483781Z",
     "start_time": "2018-08-30T08:21:20.444528Z"
    }
   },
   "outputs": [],
   "source": [
    "\n",
    "import numpy as np\n",
    "import matplotlib\n",
    "import pandas as pd\n",
    "# import seaborn as sns\n",
    "# from subprocess import check_output\n",
    "# from matplotlib.ticker import FuncFormatter"
   ]
  },
  {
   "cell_type": "markdown",
   "metadata": {},
   "source": [
    "#### 1. 데이터 확인\n",
    "- h1b_train.csv 파일을 df_train으로 불러오세요"
   ]
  },
  {
   "cell_type": "code",
   "execution_count": null,
   "metadata": {
    "ExecuteTime": {
     "end_time": "2018-08-30T06:14:33.136998Z",
     "start_time": "2018-08-30T06:14:27.217138Z"
    }
   },
   "outputs": [],
   "source": [
    "file_path=\"./data/\"\n",
    "file_name=file_path+\"h1b_train.csv\"\n",
    "df_train = pd.read_csv(file_name)\n"
   ]
  },
  {
   "cell_type": "markdown",
   "metadata": {},
   "source": [
    "- feature의 개수와 training example의 개수를 확인하세요"
   ]
  },
  {
   "cell_type": "code",
   "execution_count": null,
   "metadata": {
    "ExecuteTime": {
     "end_time": "2018-08-30T06:05:39.363425Z",
     "start_time": "2018-08-30T06:05:39.358437Z"
    }
   },
   "outputs": [],
   "source": [
    "# Your Code \n",
    "\n",
    "print('Number of entries:',df_train.shape )"
   ]
  },
  {
   "cell_type": "markdown",
   "metadata": {},
   "source": [
    "- 각 feature의 null값 개수를 확인하세요"
   ]
  },
  {
   "cell_type": "code",
   "execution_count": null,
   "metadata": {
    "ExecuteTime": {
     "end_time": "2018-08-30T06:07:22.462482Z",
     "start_time": "2018-08-30T06:07:21.362116Z"
    }
   },
   "outputs": [],
   "source": [
    "# Your Code Here\n",
    "print('Number of null:',df_train.isna().sum() )"
   ]
  },
  {
   "cell_type": "markdown",
   "metadata": {},
   "source": [
    "#### 2. 전처리"
   ]
  },
  {
   "cell_type": "code",
   "execution_count": null,
   "metadata": {
    "ExecuteTime": {
     "end_time": "2018-08-29T15:23:34.129503Z",
     "start_time": "2018-08-29T15:23:34.107562Z"
    },
    "scrolled": true
   },
   "outputs": [],
   "source": [
    "# CASE_STATUS -> CERTIFIED or DENIED\n",
    "# EMPLOYER_NAME -> 고용주 회사\n",
    "# SOC_NAME -> 직업군\n",
    "# JOB_TITLE -> 직무\n",
    "df_train.head()"
   ]
  },
  {
   "cell_type": "markdown",
   "metadata": {},
   "source": [
    "#### 2.1 CASE_STATUS\n",
    "- Certified랑 Denied만 남기고 나머지 행은 지워주세요"
   ]
  },
  {
   "cell_type": "code",
   "execution_count": null,
   "metadata": {
    "ExecuteTime": {
     "end_time": "2018-08-30T06:15:13.372800Z",
     "start_time": "2018-08-30T06:15:10.811281Z"
    }
   },
   "outputs": [],
   "source": [
    "# Your Code Here\n",
    "df_train =  df_train[(df_train['CASE_STATUS']=='CERTIFIED')|\n",
    "                      (df_train['CASE_STATUS']=='DENIED') ]\n",
    "print(df_train)"
   ]
  },
  {
   "cell_type": "markdown",
   "metadata": {},
   "source": [
    "#### 2-2. Certified와 Denied의 개수를 확인하세요"
   ]
  },
  {
   "cell_type": "code",
   "execution_count": null,
   "metadata": {
    "ExecuteTime": {
     "end_time": "2018-08-30T06:11:37.777429Z",
     "start_time": "2018-08-30T06:11:37.549071Z"
    }
   },
   "outputs": [],
   "source": [
    "# Your Code Here\n",
    "df_train['CASE_STATUS'].value_counts()"
   ]
  },
  {
   "cell_type": "markdown",
   "metadata": {},
   "source": [
    "#### 2-3. Certified는 0, Denied는 1로 바꿔주세요"
   ]
  },
  {
   "cell_type": "code",
   "execution_count": null,
   "metadata": {
    "ExecuteTime": {
     "end_time": "2018-08-30T06:15:23.343898Z",
     "start_time": "2018-08-30T06:15:22.534812Z"
    }
   },
   "outputs": [],
   "source": [
    "# Your Code Here\n",
    "df_train['CASE_STATUS']=df_train['CASE_STATUS'].replace('CERTIFIED',0).replace('DENIED',1)\n"
   ]
  },
  {
   "cell_type": "code",
   "execution_count": null,
   "metadata": {
    "ExecuteTime": {
     "end_time": "2018-08-29T07:55:16.350870Z",
     "start_time": "2018-08-29T07:55:16.342431Z"
    }
   },
   "outputs": [],
   "source": [
    "# DINIED 비율 = 3%\n",
    "Cer_num=df_train['CASE_STATUS'].value_counts()[0]\n",
    "Den_num=df_train['CASE_STATUS'].value_counts()[1]\n",
    "\n",
    "Den_num/(Cer_num+Den_num)"
   ]
  },
  {
   "cell_type": "markdown",
   "metadata": {},
   "source": [
    "#### 3-1. Full_time_position에서 Y는 1, N은 0으로 바꿔주세요"
   ]
  },
  {
   "cell_type": "code",
   "execution_count": null,
   "metadata": {
    "ExecuteTime": {
     "end_time": "2018-08-30T06:15:47.380261Z",
     "start_time": "2018-08-30T06:15:46.541437Z"
    }
   },
   "outputs": [],
   "source": [
    "# Your Code Here\n",
    "\n",
    "df_train['FULL_TIME_POSITION']=df_train['FULL_TIME_POSITION'].replace('Y',0).replace('N',1)\n"
   ]
  },
  {
   "cell_type": "markdown",
   "metadata": {},
   "source": [
    "#### 4-1. Prevailing_wage 변수를 히스토그램으로 그려보세요"
   ]
  },
  {
   "cell_type": "code",
   "execution_count": null,
   "metadata": {
    "ExecuteTime": {
     "end_time": "2018-08-29T15:25:08.413782Z",
     "start_time": "2018-08-29T15:25:08.082779Z"
    },
    "scrolled": false
   },
   "outputs": [],
   "source": [
    "from matplotlib import pyplot as plt\n",
    "%matplotlib inline\n",
    "\n",
    "plt.subplots(1, 1, figsize=(12, 4))\n",
    "\n",
    "plt.hist(df_train[df_train[\"PREVAILING_WAGE\"]<200000].PREVAILING_WAGE.values,bins=200)\n",
    "\n",
    "plt.xlim([0, 200000])\n",
    "plt.show()"
   ]
  },
  {
   "cell_type": "markdown",
   "metadata": {},
   "source": [
    "#### 4-2. Prevailing_wage 변수를 log 변환하고 다음과 같이 plot을 그려주세요"
   ]
  },
  {
   "cell_type": "code",
   "execution_count": null,
   "metadata": {},
   "outputs": [],
   "source": [
    "# 방법1\n",
    "\n",
    "# df_train['PREVAILING_WAGE'] = np.log(df_train['PREVAILING_WAGE'])\n",
    "# print(df_train['PREVAILING_WAGE'])\n",
    "\n",
    "# 방법2\n",
    "import math\n",
    "df_train['PREVAILING_WAGE']= df_train['PREVAILING_WAGE'].apply(lambda x : math.log(x) if x>0 else 0)\n",
    "df_train['PREVAILING_WAGE']"
   ]
  },
  {
   "cell_type": "code",
   "execution_count": null,
   "metadata": {
    "ExecuteTime": {
     "end_time": "2018-08-29T15:25:28.770873Z",
     "start_time": "2018-08-29T15:25:28.436716Z"
    }
   },
   "outputs": [],
   "source": [
    "plt.subplots(1, 1, figsize=(12, 4))\n",
    "# Your Code Here\n",
    "\n",
    "plt.hist(df_train[\"PREVAILING_WAGE\"].values,bins=500)\n",
    "\n",
    "plt.xlim([9, 13])"
   ]
  },
  {
   "cell_type": "markdown",
   "metadata": {},
   "source": [
    "#### 5.1 Employer_name"
   ]
  },
  {
   "cell_type": "code",
   "execution_count": null,
   "metadata": {
    "ExecuteTime": {
     "end_time": "2018-08-29T15:26:12.121436Z",
     "start_time": "2018-08-29T15:26:08.797286Z"
    }
   },
   "outputs": [],
   "source": [
    "# EMPLOYER_NAME을 보면 텍스트 전처리가 필요해 보입니다. \n",
    "# Punctuation이 문제인 것 같습니다.\n",
    "\n",
    "df_train['EMPLOYER_NAME'].sort_values()"
   ]
  },
  {
   "cell_type": "markdown",
   "metadata": {},
   "source": [
    "#### 5.2 EMPLOYER_NAME의 쉼표와 온점을 지워주세요"
   ]
  },
  {
   "cell_type": "code",
   "execution_count": null,
   "metadata": {
    "ExecuteTime": {
     "end_time": "2018-08-30T06:16:58.696017Z",
     "start_time": "2018-08-30T06:16:57.577519Z"
    }
   },
   "outputs": [],
   "source": [
    "df_train['EMPLOYER_NAME']=df_train['EMPLOYER_NAME'].str.replace('.','').str.replace(',','')\n",
    "df_train['EMPLOYER_NAME']\n"
   ]
  },
  {
   "cell_type": "markdown",
   "metadata": {},
   "source": [
    "#### 5.3 EMPLOYER_NAME 변수의 빈도를 이용해 다음과 같은 plot을 그려주세요"
   ]
  },
  {
   "cell_type": "code",
   "execution_count": null,
   "metadata": {
    "ExecuteTime": {
     "end_time": "2018-08-29T07:43:19.946084Z",
     "start_time": "2018-08-29T07:43:18.391891Z"
    },
    "scrolled": true
   },
   "outputs": [],
   "source": [
    "grouped = df_train['EMPLOYER_NAME'].groupby(df_train['EMPLOYER_NAME']).size()\n",
    "grouped.sort_values(ascending=False)[:20].plot(kind='barh')\n",
    "\n"
   ]
  },
  {
   "cell_type": "markdown",
   "metadata": {},
   "source": [
    "#### 6.1 SOC_NAME 변수의 빈도를 이용해 다음과 같은 plot을 그려주세요"
   ]
  },
  {
   "cell_type": "code",
   "execution_count": null,
   "metadata": {
    "ExecuteTime": {
     "end_time": "2018-08-29T16:00:07.447610Z",
     "start_time": "2018-08-29T16:00:06.949207Z"
    },
    "scrolled": false
   },
   "outputs": [],
   "source": [
    "\n",
    "df_train['SOC_NAME']=df_train['SOC_NAME'].apply(lambda x : str(x).upper())\n",
    "grouped = df_train['SOC_NAME'].groupby(df_train['SOC_NAME']).size()\n",
    "grouped.sort_values(ascending=False)[:20].plot(kind='barh')\n"
   ]
  },
  {
   "cell_type": "markdown",
   "metadata": {},
   "source": [
    "#### 6.2 Year 변수를 이용해 연도별로 CASE_STATUS에 따라 빈도를 나타낸 plot을 그려주세요"
   ]
  },
  {
   "cell_type": "code",
   "execution_count": null,
   "metadata": {
    "ExecuteTime": {
     "end_time": "2018-08-29T15:26:52.849042Z",
     "start_time": "2018-08-29T15:26:52.339097Z"
    },
    "scrolled": false
   },
   "outputs": [],
   "source": [
    "\n",
    "#  방법 1\n",
    "# case_year  =  df_train.groupby(['YEAR','CASE_STATUS']).size().unstack()\n",
    "# case_year.plot(kind=\"bar\")\n",
    "# fig = plt.gcf()\n",
    "# fig.set_size_inches(15,6)\n",
    "# plt.title('Case Status by Year')\n",
    "# plt.show()\n",
    "# case_year\n",
    "\n",
    "#  방법 2\n",
    "import seaborn as sns\n",
    "case_year = df_train[['YEAR','CASE_STATUS','SOC_NAME']].groupby(['YEAR','CASE_STATUS']).count().reset_index()\n",
    "\n",
    "sns.barplot(x=\"YEAR\",y=\"SOC_NAME\", hue=\"CASE_STATUS\", data = case_year)\n",
    "fig = plt.gcf()\n",
    "fig.set_size_inches(15,6)\n",
    "plt.title('Case Status by Year')\n",
    "plt.show()\n",
    "case_year\n"
   ]
  },
  {
   "cell_type": "code",
   "execution_count": null,
   "metadata": {
    "ExecuteTime": {
     "end_time": "2018-08-29T15:26:56.846699Z",
     "start_time": "2018-08-29T15:26:56.839755Z"
    }
   },
   "outputs": [],
   "source": [
    "# 연도에 따라 certificated 비율이 늘어나고 있습니다.\n",
    "\n",
    "count_cer = case_year.loc[case_year['CASE_STATUS'] == 0]\n",
    "count_de = case_year.loc[case_year['CASE_STATUS'] == 1]\n",
    "rate = count_cer['SOC_NAME'].values / (count_cer['SOC_NAME'].values + count_de['SOC_NAME'].values)\n",
    "rate"
   ]
  },
  {
   "cell_type": "markdown",
   "metadata": {},
   "source": [
    "# 고생하셨습니다 :)"
   ]
  }
 ],
 "metadata": {
  "kernelspec": {
   "display_name": "Python 3",
   "language": "python",
   "name": "python3"
  },
  "language_info": {
   "codemirror_mode": {
    "name": "ipython",
    "version": 3
   },
   "file_extension": ".py",
   "mimetype": "text/x-python",
   "name": "python",
   "nbconvert_exporter": "python",
   "pygments_lexer": "ipython3",
   "version": "3.7.1"
  },
  "latex_envs": {
   "LaTeX_envs_menu_present": true,
   "autoclose": false,
   "autocomplete": true,
   "bibliofile": "biblio.bib",
   "cite_by": "apalike",
   "current_citInitial": 1,
   "eqLabelWithNumbers": true,
   "eqNumInitial": 1,
   "hotkeys": {
    "equation": "Ctrl-E",
    "itemize": "Ctrl-I"
   },
   "labels_anchors": false,
   "latex_user_defs": false,
   "report_style_numbering": false,
   "user_envs_cfg": false
  },
  "toc": {
   "base_numbering": 1,
   "nav_menu": {},
   "number_sections": false,
   "sideBar": true,
   "skip_h1_title": false,
   "title_cell": "Table of Contents",
   "title_sidebar": "Contents",
   "toc_cell": false,
   "toc_position": {},
   "toc_section_display": true,
   "toc_window_display": false
  },
  "varInspector": {
   "cols": {
    "lenName": 16,
    "lenType": 16,
    "lenVar": 40
   },
   "kernels_config": {
    "python": {
     "delete_cmd_postfix": "",
     "delete_cmd_prefix": "del ",
     "library": "var_list.py",
     "varRefreshCmd": "print(var_dic_list())"
    },
    "r": {
     "delete_cmd_postfix": ") ",
     "delete_cmd_prefix": "rm(",
     "library": "var_list.r",
     "varRefreshCmd": "cat(var_dic_list()) "
    }
   },
   "types_to_exclude": [
    "module",
    "function",
    "builtin_function_or_method",
    "instance",
    "_Feature"
   ],
   "window_display": false
  }
 },
 "nbformat": 4,
 "nbformat_minor": 2
}
