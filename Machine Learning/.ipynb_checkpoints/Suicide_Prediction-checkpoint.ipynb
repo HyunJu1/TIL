{
 "cells": [
  {
   "cell_type": "markdown",
   "metadata": {},
   "source": [
    "# Suicide Rates Overview 1985 to 2014\n",
    "문제: \n",
    "train set에는 1985년부터 2014년까지의 국가 별 자살 인구수 통계가\n",
    "나와 있습니다. 이 데이터를 가지고 다음 해 국가 별 자살 인구수를 예측하는 문제.\n",
    "\n",
    "https://www.kaggle.com/russellyates88/suicide-rates-overview-1985-to-2016/kernels\n"
   ]
  },
  {
   "cell_type": "markdown",
   "metadata": {},
   "source": [
    "## 목차 \n",
    "\n",
    "1. Collecting the data\n",
    "2. Exploratory data analysis\n",
    "3. Feature engineering\n",
    "4. Modeling \n",
    "5. Testing"
   ]
  },
  {
   "cell_type": "markdown",
   "metadata": {},
   "source": [
    "## 1. Collecting the data\n",
    "\n",
    "\n"
   ]
  },
  {
   "cell_type": "code",
   "execution_count": 1,
   "metadata": {},
   "outputs": [],
   "source": [
    "import pandas as pd\n",
    "import numpy as np\n",
    "\n",
    "train = pd.read_csv('suicide_data/train.csv')\n",
    "test = pd.read_csv('suicide_data/test_mini.csv')"
   ]
  },
  {
   "cell_type": "markdown",
   "metadata": {},
   "source": [
    "## 2. Exploratory data analysis\n",
    "\n",
    "country, year, sex, age group, count of suicides, population, suicide rate, country-year composite key, HDI for year, gdp_for_year, gdp_per_capita, generation (based on age grouping average).\n"
   ]
  },
  {
   "cell_type": "code",
   "execution_count": 2,
   "metadata": {},
   "outputs": [
    {
     "data": {
      "text/html": [
       "<div>\n",
       "<style scoped>\n",
       "    .dataframe tbody tr th:only-of-type {\n",
       "        vertical-align: middle;\n",
       "    }\n",
       "\n",
       "    .dataframe tbody tr th {\n",
       "        vertical-align: top;\n",
       "    }\n",
       "\n",
       "    .dataframe thead th {\n",
       "        text-align: right;\n",
       "    }\n",
       "</style>\n",
       "<table border=\"1\" class=\"dataframe\">\n",
       "  <thead>\n",
       "    <tr style=\"text-align: right;\">\n",
       "      <th></th>\n",
       "      <th>country</th>\n",
       "      <th>year</th>\n",
       "      <th>sex</th>\n",
       "      <th>age</th>\n",
       "      <th>suicides_no</th>\n",
       "      <th>population</th>\n",
       "      <th>suicides_100k_pop</th>\n",
       "      <th>country_year</th>\n",
       "      <th>HDI_for_year</th>\n",
       "      <th>gdp_for_year</th>\n",
       "      <th>gdp_per_capital</th>\n",
       "      <th>generation</th>\n",
       "    </tr>\n",
       "  </thead>\n",
       "  <tbody>\n",
       "    <tr>\n",
       "      <th>0</th>\n",
       "      <td>Albania</td>\n",
       "      <td>1987</td>\n",
       "      <td>male</td>\n",
       "      <td>15-24 years</td>\n",
       "      <td>21</td>\n",
       "      <td>312900</td>\n",
       "      <td>6.71</td>\n",
       "      <td>Albania1987</td>\n",
       "      <td>NaN</td>\n",
       "      <td>2,156,624,900</td>\n",
       "      <td>796</td>\n",
       "      <td>Generation X</td>\n",
       "    </tr>\n",
       "    <tr>\n",
       "      <th>1</th>\n",
       "      <td>Albania</td>\n",
       "      <td>1987</td>\n",
       "      <td>male</td>\n",
       "      <td>35-54 years</td>\n",
       "      <td>16</td>\n",
       "      <td>308000</td>\n",
       "      <td>5.19</td>\n",
       "      <td>Albania1987</td>\n",
       "      <td>NaN</td>\n",
       "      <td>2,156,624,900</td>\n",
       "      <td>796</td>\n",
       "      <td>Silent</td>\n",
       "    </tr>\n",
       "    <tr>\n",
       "      <th>2</th>\n",
       "      <td>Albania</td>\n",
       "      <td>1987</td>\n",
       "      <td>female</td>\n",
       "      <td>15-24 years</td>\n",
       "      <td>14</td>\n",
       "      <td>289700</td>\n",
       "      <td>4.83</td>\n",
       "      <td>Albania1987</td>\n",
       "      <td>NaN</td>\n",
       "      <td>2,156,624,900</td>\n",
       "      <td>796</td>\n",
       "      <td>Generation X</td>\n",
       "    </tr>\n",
       "    <tr>\n",
       "      <th>3</th>\n",
       "      <td>Albania</td>\n",
       "      <td>1987</td>\n",
       "      <td>male</td>\n",
       "      <td>75+ years</td>\n",
       "      <td>1</td>\n",
       "      <td>21800</td>\n",
       "      <td>4.59</td>\n",
       "      <td>Albania1987</td>\n",
       "      <td>NaN</td>\n",
       "      <td>2,156,624,900</td>\n",
       "      <td>796</td>\n",
       "      <td>G.I. Generation</td>\n",
       "    </tr>\n",
       "    <tr>\n",
       "      <th>4</th>\n",
       "      <td>Albania</td>\n",
       "      <td>1987</td>\n",
       "      <td>male</td>\n",
       "      <td>25-34 years</td>\n",
       "      <td>9</td>\n",
       "      <td>274300</td>\n",
       "      <td>3.28</td>\n",
       "      <td>Albania1987</td>\n",
       "      <td>NaN</td>\n",
       "      <td>2,156,624,900</td>\n",
       "      <td>796</td>\n",
       "      <td>Boomers</td>\n",
       "    </tr>\n",
       "  </tbody>\n",
       "</table>\n",
       "</div>"
      ],
      "text/plain": [
       "   country  year     sex          age  suicides_no  population  \\\n",
       "0  Albania  1987    male  15-24 years           21      312900   \n",
       "1  Albania  1987    male  35-54 years           16      308000   \n",
       "2  Albania  1987  female  15-24 years           14      289700   \n",
       "3  Albania  1987    male    75+ years            1       21800   \n",
       "4  Albania  1987    male  25-34 years            9      274300   \n",
       "\n",
       "   suicides_100k_pop country_year  HDI_for_year   gdp_for_year  \\\n",
       "0               6.71  Albania1987           NaN  2,156,624,900   \n",
       "1               5.19  Albania1987           NaN  2,156,624,900   \n",
       "2               4.83  Albania1987           NaN  2,156,624,900   \n",
       "3               4.59  Albania1987           NaN  2,156,624,900   \n",
       "4               3.28  Albania1987           NaN  2,156,624,900   \n",
       "\n",
       "   gdp_per_capital       generation  \n",
       "0              796     Generation X  \n",
       "1              796           Silent  \n",
       "2              796     Generation X  \n",
       "3              796  G.I. Generation  \n",
       "4              796          Boomers  "
      ]
     },
     "execution_count": 2,
     "metadata": {},
     "output_type": "execute_result"
    }
   ],
   "source": [
    "train.head(5)"
   ]
  },
  {
   "cell_type": "code",
   "execution_count": 3,
   "metadata": {},
   "outputs": [
    {
     "data": {
      "text/plain": [
       "(26916, 12)"
      ]
     },
     "execution_count": 3,
     "metadata": {},
     "output_type": "execute_result"
    }
   ],
   "source": [
    "train.shape"
   ]
  },
  {
   "cell_type": "code",
   "execution_count": 4,
   "metadata": {},
   "outputs": [
    {
     "name": "stdout",
     "output_type": "stream",
     "text": [
      "<class 'pandas.core.frame.DataFrame'>\n",
      "RangeIndex: 26916 entries, 0 to 26915\n",
      "Data columns (total 12 columns):\n",
      "country              26916 non-null object\n",
      "year                 26916 non-null int64\n",
      "sex                  26916 non-null object\n",
      "age                  26916 non-null object\n",
      "suicides_no          26916 non-null int64\n",
      "population           26916 non-null int64\n",
      "suicides_100k_pop    26916 non-null float64\n",
      "country_year         26916 non-null object\n",
      "HDI_for_year         8364 non-null float64\n",
      "gdp_for_year         26916 non-null object\n",
      "gdp_per_capital      26916 non-null int64\n",
      "generation           26916 non-null object\n",
      "dtypes: float64(2), int64(4), object(6)\n",
      "memory usage: 2.5+ MB\n"
     ]
    }
   ],
   "source": [
    "train.info()"
   ]
  },
  {
   "cell_type": "code",
   "execution_count": 5,
   "metadata": {},
   "outputs": [
    {
     "data": {
      "text/plain": [
       "country                  0\n",
       "year                     0\n",
       "sex                      0\n",
       "age                      0\n",
       "suicides_no              0\n",
       "population               0\n",
       "suicides_100k_pop        0\n",
       "country_year             0\n",
       "HDI_for_year         18552\n",
       "gdp_for_year             0\n",
       "gdp_per_capital          0\n",
       "generation               0\n",
       "dtype: int64"
      ]
     },
     "execution_count": 5,
     "metadata": {},
     "output_type": "execute_result"
    }
   ],
   "source": [
    "train.isnull().sum()"
   ]
  },
  {
   "cell_type": "markdown",
   "metadata": {},
   "source": [
    "## 3. Feature engineering"
   ]
  },
  {
   "cell_type": "markdown",
   "metadata": {},
   "source": [
    "\n"
   ]
  },
  {
   "cell_type": "code",
   "execution_count": 6,
   "metadata": {},
   "outputs": [],
   "source": [
    "# 필요없는 컬럼 삭제\n",
    "\n",
    "features_drop = ['country_year', 'HDI_for_year', 'gdp_for_year']\n",
    "train = train.drop(features_drop, axis=1)\n",
    "test = test.drop(features_drop, axis=1)\n",
    "\n",
    "# train = train.drop(['country'], axis=1)"
   ]
  },
  {
   "cell_type": "code",
   "execution_count": 7,
   "metadata": {},
   "outputs": [
    {
     "data": {
      "text/html": [
       "<div>\n",
       "<style scoped>\n",
       "    .dataframe tbody tr th:only-of-type {\n",
       "        vertical-align: middle;\n",
       "    }\n",
       "\n",
       "    .dataframe tbody tr th {\n",
       "        vertical-align: top;\n",
       "    }\n",
       "\n",
       "    .dataframe thead th {\n",
       "        text-align: right;\n",
       "    }\n",
       "</style>\n",
       "<table border=\"1\" class=\"dataframe\">\n",
       "  <thead>\n",
       "    <tr style=\"text-align: right;\">\n",
       "      <th></th>\n",
       "      <th>country</th>\n",
       "      <th>year</th>\n",
       "      <th>sex</th>\n",
       "      <th>age</th>\n",
       "      <th>suicides_no</th>\n",
       "      <th>population</th>\n",
       "      <th>suicides_100k_pop</th>\n",
       "      <th>gdp_per_capital</th>\n",
       "      <th>generation</th>\n",
       "    </tr>\n",
       "  </thead>\n",
       "  <tbody>\n",
       "    <tr>\n",
       "      <th>0</th>\n",
       "      <td>Albania</td>\n",
       "      <td>1987</td>\n",
       "      <td>male</td>\n",
       "      <td>15-24 years</td>\n",
       "      <td>21</td>\n",
       "      <td>312900</td>\n",
       "      <td>6.71</td>\n",
       "      <td>796</td>\n",
       "      <td>Generation X</td>\n",
       "    </tr>\n",
       "    <tr>\n",
       "      <th>1</th>\n",
       "      <td>Albania</td>\n",
       "      <td>1987</td>\n",
       "      <td>male</td>\n",
       "      <td>35-54 years</td>\n",
       "      <td>16</td>\n",
       "      <td>308000</td>\n",
       "      <td>5.19</td>\n",
       "      <td>796</td>\n",
       "      <td>Silent</td>\n",
       "    </tr>\n",
       "    <tr>\n",
       "      <th>2</th>\n",
       "      <td>Albania</td>\n",
       "      <td>1987</td>\n",
       "      <td>female</td>\n",
       "      <td>15-24 years</td>\n",
       "      <td>14</td>\n",
       "      <td>289700</td>\n",
       "      <td>4.83</td>\n",
       "      <td>796</td>\n",
       "      <td>Generation X</td>\n",
       "    </tr>\n",
       "    <tr>\n",
       "      <th>3</th>\n",
       "      <td>Albania</td>\n",
       "      <td>1987</td>\n",
       "      <td>male</td>\n",
       "      <td>75+ years</td>\n",
       "      <td>1</td>\n",
       "      <td>21800</td>\n",
       "      <td>4.59</td>\n",
       "      <td>796</td>\n",
       "      <td>G.I. Generation</td>\n",
       "    </tr>\n",
       "    <tr>\n",
       "      <th>4</th>\n",
       "      <td>Albania</td>\n",
       "      <td>1987</td>\n",
       "      <td>male</td>\n",
       "      <td>25-34 years</td>\n",
       "      <td>9</td>\n",
       "      <td>274300</td>\n",
       "      <td>3.28</td>\n",
       "      <td>796</td>\n",
       "      <td>Boomers</td>\n",
       "    </tr>\n",
       "  </tbody>\n",
       "</table>\n",
       "</div>"
      ],
      "text/plain": [
       "   country  year     sex          age  suicides_no  population  \\\n",
       "0  Albania  1987    male  15-24 years           21      312900   \n",
       "1  Albania  1987    male  35-54 years           16      308000   \n",
       "2  Albania  1987  female  15-24 years           14      289700   \n",
       "3  Albania  1987    male    75+ years            1       21800   \n",
       "4  Albania  1987    male  25-34 years            9      274300   \n",
       "\n",
       "   suicides_100k_pop  gdp_per_capital       generation  \n",
       "0               6.71              796     Generation X  \n",
       "1               5.19              796           Silent  \n",
       "2               4.83              796     Generation X  \n",
       "3               4.59              796  G.I. Generation  \n",
       "4               3.28              796          Boomers  "
      ]
     },
     "execution_count": 7,
     "metadata": {},
     "output_type": "execute_result"
    }
   ],
   "source": [
    "train.head()"
   ]
  },
  {
   "cell_type": "code",
   "execution_count": 8,
   "metadata": {},
   "outputs": [
    {
     "data": {
      "text/html": [
       "<div>\n",
       "<style scoped>\n",
       "    .dataframe tbody tr th:only-of-type {\n",
       "        vertical-align: middle;\n",
       "    }\n",
       "\n",
       "    .dataframe tbody tr th {\n",
       "        vertical-align: top;\n",
       "    }\n",
       "\n",
       "    .dataframe thead th {\n",
       "        text-align: right;\n",
       "    }\n",
       "</style>\n",
       "<table border=\"1\" class=\"dataframe\">\n",
       "  <thead>\n",
       "    <tr style=\"text-align: right;\">\n",
       "      <th></th>\n",
       "      <th>country</th>\n",
       "      <th>year</th>\n",
       "      <th>sex</th>\n",
       "      <th>age</th>\n",
       "      <th>population</th>\n",
       "      <th>suicides_100k_pop</th>\n",
       "      <th>gdp_per_capital</th>\n",
       "      <th>generation</th>\n",
       "    </tr>\n",
       "  </thead>\n",
       "  <tbody>\n",
       "    <tr>\n",
       "      <th>0</th>\n",
       "      <td>Antigua and Barbuda</td>\n",
       "      <td>2015</td>\n",
       "      <td>female</td>\n",
       "      <td>55-74 years</td>\n",
       "      <td>6403</td>\n",
       "      <td>15.62</td>\n",
       "      <td>14853</td>\n",
       "      <td>Boomers</td>\n",
       "    </tr>\n",
       "    <tr>\n",
       "      <th>1</th>\n",
       "      <td>Antigua and Barbuda</td>\n",
       "      <td>2015</td>\n",
       "      <td>female</td>\n",
       "      <td>15-24 years</td>\n",
       "      <td>8561</td>\n",
       "      <td>0.00</td>\n",
       "      <td>14853</td>\n",
       "      <td>Millenials</td>\n",
       "    </tr>\n",
       "    <tr>\n",
       "      <th>2</th>\n",
       "      <td>Antigua and Barbuda</td>\n",
       "      <td>2015</td>\n",
       "      <td>female</td>\n",
       "      <td>25-34 years</td>\n",
       "      <td>7740</td>\n",
       "      <td>0.00</td>\n",
       "      <td>14853</td>\n",
       "      <td>Millenials</td>\n",
       "    </tr>\n",
       "    <tr>\n",
       "      <th>3</th>\n",
       "      <td>Antigua and Barbuda</td>\n",
       "      <td>2015</td>\n",
       "      <td>female</td>\n",
       "      <td>35-54 years</td>\n",
       "      <td>15323</td>\n",
       "      <td>0.00</td>\n",
       "      <td>14853</td>\n",
       "      <td>Generation X</td>\n",
       "    </tr>\n",
       "    <tr>\n",
       "      <th>4</th>\n",
       "      <td>Antigua and Barbuda</td>\n",
       "      <td>2015</td>\n",
       "      <td>female</td>\n",
       "      <td>5-14 years</td>\n",
       "      <td>8239</td>\n",
       "      <td>0.00</td>\n",
       "      <td>14853</td>\n",
       "      <td>Generation Z</td>\n",
       "    </tr>\n",
       "  </tbody>\n",
       "</table>\n",
       "</div>"
      ],
      "text/plain": [
       "               country  year     sex          age  population  \\\n",
       "0  Antigua and Barbuda  2015  female  55-74 years        6403   \n",
       "1  Antigua and Barbuda  2015  female  15-24 years        8561   \n",
       "2  Antigua and Barbuda  2015  female  25-34 years        7740   \n",
       "3  Antigua and Barbuda  2015  female  35-54 years       15323   \n",
       "4  Antigua and Barbuda  2015  female   5-14 years        8239   \n",
       "\n",
       "   suicides_100k_pop  gdp_per_capital    generation  \n",
       "0              15.62            14853       Boomers  \n",
       "1               0.00            14853    Millenials  \n",
       "2               0.00            14853    Millenials  \n",
       "3               0.00            14853  Generation X  \n",
       "4               0.00            14853  Generation Z  "
      ]
     },
     "execution_count": 8,
     "metadata": {},
     "output_type": "execute_result"
    }
   ],
   "source": [
    "test.head()"
   ]
  },
  {
   "cell_type": "code",
   "execution_count": 9,
   "metadata": {},
   "outputs": [],
   "source": [
    "train_test_data = [train, test]\n",
    "\n",
    "sex_mapping = {\"male\": 0, \"female\": 1}\n",
    "for dataset in train_test_data:\n",
    "    dataset['sex'] = dataset['sex'].map(sex_mapping)\n",
    "  \n",
    "    "
   ]
  },
  {
   "cell_type": "code",
   "execution_count": 10,
   "metadata": {},
   "outputs": [],
   "source": [
    "age_mapping = {\"5-14 years\":0,\"15-24 years\":1,\"25-34 years\":2,\"35-54 years\":3,\"55-74 years\":4,\"75+ years\":5}\n",
    "\n",
    "for dataset in train_test_data:\n",
    "    dataset['age'] = dataset['age'].map(age_mapping)\n"
   ]
  },
  {
   "cell_type": "code",
   "execution_count": 12,
   "metadata": {},
   "outputs": [],
   "source": [
    "# country_mapping = {\"Albania\":0, \"Antigua and Barbuda\":1, \"Argentina\":2, \"Armenia\":3, \"Aruba\":100,\n",
    "#        \"Australia\":4, \"Austria\":5, \"Azerbaijan\":6, \"Bahamas\":7, \"Bahrain\":8,\n",
    "#        \"Barbados\":9, \"Belarus\":10, \"Belgium\":11, \"Belize\":12,\n",
    "#        \"Bosnia and Herzegovina\":13, \"Brazil\":14, \"Bulgaria\":15, \"Cabo Verde\":16,\n",
    "#        \"Canada\":17, \"Chile\":18, \"Colombia\":19, \"Costa Rica\":20, \"Croatia\":21, \"Cuba\":22,\n",
    "#        \"Cyprus\":23, \"Czech Republic\":24, \"Denmark\":25, \"Dominica\":26, \"Ecuador\":27,\n",
    "#        \"El Salvador\":28, \"Estonia\":29, \"Fiji\":30, \"Finland\":31, \"France\":32, \"Georgia\":33,\n",
    "#        \"Germany\":34, \"Greece\":35, \"Grenada\":36, \"Guatemala\":37, \"Guyana\":38, \"Hungary\":39,\n",
    "#        \"Iceland\":40, \"Ireland\":41, \"Israel\":42, \"Italy\":43, \"Jamaica\":44, \"Japan\":45,\n",
    "#        \"Kazakhstan\":46, \"Kiribati\":47, \"Kuwait\":48, \"Kyrgyzstan\":49, \"Latvia\":50,\n",
    "#        \"Lithuania\":51, \"Luxembourg\":52, \"Macau\":53, \"Maldives\":54, \"Malta\":55,\n",
    "#        \"Mauritius\":56, \"Mexico\":57, \"Mongolia\":58, \"Montenegro\":59, \"Netherlands\":60,\n",
    "#        \"New Zealand\":61, \"Nicaragua\":62, \"Norway\":63, \"Oman\":64, \"Panama\":65, \"Paraguay\":66,\n",
    "#        \"Philippines\":67, \"Poland\":68, \"Portugal\":69, \"Puerto Rico\":70, \"Qatar\":71,\n",
    "#        \"Republic of Korea\":72, \"Romania\":73, \"Russian Federation\":74,\n",
    "#        \"Saint Kitts and Nevis\":75, \"Saint Lucia\":76,\n",
    "#        \"Saint Vincent and Grenadines\":77, \"San Marino\":78, \"Serbia\":79,\n",
    "#        \"Seychelles\":80, \"Singapore\":81, \"Slovakia\":82, \"Slovenia\":83, \"South Africa\":84,\n",
    "#        \"Spain\":85, \"Sri Lanka\":86, \"Suriname\":87, \"Sweden\":88, \"Switzerland\":89,\n",
    "#        \"Thailand\":90, \"Trinidad and Tobago\":91, \"Turkey\":92, \"Turkmenistan\":93,\n",
    "#        \"Ukraine\":94, \"United Arab Emirates\":95, \"United Kingdom\":96,\n",
    "#        \"United States\":97, \"Uruguay\":98, \"Uzbekistan\":99}\n",
    "\n",
    "\n",
    "country_mapping = {}\n",
    "for x in ('Armenia','Azerbaijan', 'Bahrain','Israel','Japan','Kazakhstan', 'Kuwait','Kyrgyzstan','Macau','Maldives','Mongolia','Oman','Philippines','Qatar','Republic of Korea','Russian Federation','Sri Lanka','Thailand','Turkey','Turkmenistan','United Arab Emirates','Singapore','Uzbekistan'):\n",
    "    country_mapping[x] = 1\n",
    "for x in ('Albania', 'Austria','Belarus','Belgium','Croatia','Serbia','Cyprus','Sweden','Norway','Netherlands','Bosnia and Herzegovina','Bulgaria','Czech Republic','Denmark','Estonia','Finland', 'France','Georgia','Germany', 'Greece','Hungary','Iceland', 'Ireland', 'Italy','Latvia','Lithuania', 'Luxembourg','Malta','Montenegro','Poland', 'Portugal', 'Romania','San Marino','Slovakia','Slovenia', 'Spain','Switzerland', 'Ukraine','United Kingdom'):\n",
    "    country_mapping[x] = 2\n",
    "for x in ('Antigua and Barbuda','Bahamas','Costa Rica','Barbados','Cuba','Belize','Canada','Dominica', 'El Salvador','Grenada','Guatemala','Jamaica','Nicaragua','Panama','Puerto Rico','Saint Kitts and Nevis','Saint Vincent and Grenadines','Saint Lucia','United States'):\n",
    "    country_mapping[x]=3\n",
    "for x in ('Argentina','Chile','Colombia','Brazil','Cabo Verde','Ecuador', 'Guyana','Mexico','Paraguay','Suriname','Uruguay','Trinidad and Tobago'):\n",
    "    country_mapping[x]=4\n",
    "for x in ( 'Australia', 'Fiji','Kiribati','New Zealand'):\n",
    "    country_mapping[x]=5\n",
    "for x in ('Nicaragua','Mauritius','South Africa','Aruba','Seychelles'):\n",
    "    country_mapping[x]=6\n",
    "    \n",
    "for dataset in train_test_data:\n",
    "    dataset['country'] = dataset['country'].map(country_mapping)"
   ]
  },
  {
   "cell_type": "code",
   "execution_count": 13,
   "metadata": {},
   "outputs": [],
   "source": [
    "generation_mapping = {\"Generation X\":0, \"Silent\":1, \"G.I. Generation\":2, \"Boomers\":3, \"Millenials\":4, \"Generation Z\":5}\n",
    "\n",
    "for dataset in train_test_data:\n",
    "    dataset['generation'] = dataset['generation'].map(generation_mapping)"
   ]
  },
  {
   "cell_type": "code",
   "execution_count": 14,
   "metadata": {},
   "outputs": [],
   "source": [
    "\n",
    "def normalize(X):\n",
    "    return np.abs((X-np.mean(X))/np.std(X))\n",
    "for dataset in train_test_data:\n",
    "    #dataset['year']=normalize(dataset['year'])\n",
    "    dataset['gdp_per_capital']=normalize(dataset['gdp_per_capital'])\n",
    "    dataset['population']=normalize(dataset['population'])"
   ]
  },
  {
   "cell_type": "code",
   "execution_count": null,
   "metadata": {},
   "outputs": [],
   "source": [
    "test.head()"
   ]
  },
  {
   "cell_type": "markdown",
   "metadata": {},
   "source": [
    "## 4. Modeling "
   ]
  },
  {
   "cell_type": "code",
   "execution_count": 16,
   "metadata": {},
   "outputs": [],
   "source": [
    "\n",
    "from sklearn.neighbors import KNeighborsClassifier\n",
    "from sklearn.tree import DecisionTreeClassifier\n",
    "from sklearn.ensemble import RandomForestClassifier\n",
    "from sklearn.naive_bayes import GaussianNB\n",
    "from sklearn.svm import SVC\n",
    "\n",
    "import numpy as np\n",
    "\n"
   ]
  },
  {
   "cell_type": "markdown",
   "metadata": {},
   "source": [
    "### Cross Validation ( K- fold)\n",
    "  Cross Validation를 통한 validation 정확도 향상"
   ]
  },
  {
   "cell_type": "code",
   "execution_count": 17,
   "metadata": {},
   "outputs": [],
   "source": [
    "from sklearn.model_selection import KFold\n",
    "from sklearn.model_selection import cross_val_score\n",
    "k_fold = KFold(n_splits=10, shuffle=True, random_state=0)\n",
    "\n",
    "\n",
    "target = train['suicides_no']"
   ]
  },
  {
   "cell_type": "markdown",
   "metadata": {},
   "source": [
    "### 5.1 SVM 모델"
   ]
  },
  {
   "cell_type": "code",
   "execution_count": null,
   "metadata": {
    "scrolled": false
   },
   "outputs": [
    {
     "name": "stderr",
     "output_type": "stream",
     "text": [
      "C:\\Users\\hyunju\\Anaconda3\\lib\\site-packages\\sklearn\\svm\\base.py:196: FutureWarning: The default value of gamma will change from 'auto' to 'scale' in version 0.22 to account better for unscaled features. Set gamma explicitly to 'auto' or 'scale' to avoid this warning.\n",
      "  \"avoid this warning.\", FutureWarning)\n"
     ]
    }
   ],
   "source": [
    "clf = SVC()\n",
    "scoring = 'accuracy'\n",
    "score = cross_val_score(clf, train, target, cv=k_fold, n_jobs=1, scoring=scoring)\n",
    "print(score)"
   ]
  },
  {
   "cell_type": "code",
   "execution_count": null,
   "metadata": {},
   "outputs": [],
   "source": [
    "round(np.mean(score)*100,2)"
   ]
  },
  {
   "cell_type": "markdown",
   "metadata": {},
   "source": [
    "### 5.2 DesicionTree 모델"
   ]
  },
  {
   "cell_type": "code",
   "execution_count": null,
   "metadata": {},
   "outputs": [],
   "source": [
    "tree=DecisionTreeRegressor()\n",
    "tree.fit(x_train,y_train)\n",
    "tree.score(x_cv,y_cv)"
   ]
  }
 ],
 "metadata": {
  "kernelspec": {
   "display_name": "Python 3",
   "language": "python",
   "name": "python3"
  },
  "language_info": {
   "codemirror_mode": {
    "name": "ipython",
    "version": 3
   },
   "file_extension": ".py",
   "mimetype": "text/x-python",
   "name": "python",
   "nbconvert_exporter": "python",
   "pygments_lexer": "ipython3",
   "version": "3.6.8"
  }
 },
 "nbformat": 4,
 "nbformat_minor": 2
}
