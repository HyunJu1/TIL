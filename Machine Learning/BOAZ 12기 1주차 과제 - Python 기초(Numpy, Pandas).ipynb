{
 "cells": [
  {
   "cell_type": "markdown",
   "metadata": {},
   "source": [
    "# BOAZ 12기 1주차 과제 파이썬 기초 문법"
   ]
  },
  {
   "cell_type": "markdown",
   "metadata": {},
   "source": [
    "- 원하는 함수가 기억이 안나면 [이곳](https://wikidocs.net/book/1)을 참고해주세요\n",
    "- 자주 사용하는 함수는 기억하는 것이 좋지만 대부분 기억이 나지 않습니다\n",
    "- 원하는 기능이 있는 함수를 구글링 하는 능력이 중요합니다\n",
    "- 영어로 어떻게 검색해야 하는지 학습하는 것이 가장 좋습니다"
   ]
  },
  {
   "cell_type": "markdown",
   "metadata": {},
   "source": [
    "#### 1. 자료형 문제\n",
    "#### 1-1. Slice 기능을 이용해 'you need python'(모두 소문자로) 을 출력하세요. "
   ]
  },
  {
   "cell_type": "code",
   "execution_count": 1,
   "metadata": {},
   "outputs": [],
   "source": [
    "a = \"Life is too short, You need Python\"\n"
   ]
  },
  {
   "cell_type": "code",
   "execution_count": 2,
   "metadata": {},
   "outputs": [
    {
     "data": {
      "text/plain": [
       "'life is too short, you need python'"
      ]
     },
     "execution_count": 2,
     "metadata": {},
     "output_type": "execute_result"
    }
   ],
   "source": [
    "a.lower()"
   ]
  },
  {
   "cell_type": "markdown",
   "metadata": {},
   "source": [
    "#### 1-2. 숫자와 나누는 수를 입력하면 나머지를 반환하는 함수 remainder를 작성하세요"
   ]
  },
  {
   "cell_type": "code",
   "execution_count": 3,
   "metadata": {},
   "outputs": [],
   "source": [
    "def reminder (a,b):\n",
    "    return a%b\n",
    "    "
   ]
  },
  {
   "cell_type": "code",
   "execution_count": 4,
   "metadata": {},
   "outputs": [
    {
     "data": {
      "text/plain": [
       "2"
      ]
     },
     "execution_count": 4,
     "metadata": {},
     "output_type": "execute_result"
    }
   ],
   "source": [
    "reminder(5,3)"
   ]
  },
  {
   "cell_type": "markdown",
   "metadata": {},
   "source": [
    "#### 1-2. 입력한 수의 평균을 반환하는 함수 mean을 작성하세요 (*args를 이용해보세요 !)"
   ]
  },
  {
   "cell_type": "code",
   "execution_count": 15,
   "metadata": {},
   "outputs": [],
   "source": [
    "def mean (a, *args):\n",
    "    sum=0\n",
    "    cnt=0\n",
    "    for i in args :\n",
    "        sum +=i ;\n",
    "        cnt +=1 ;\n",
    "    return sum/cnt \n",
    "    "
   ]
  },
  {
   "cell_type": "code",
   "execution_count": 16,
   "metadata": {
    "scrolled": true
   },
   "outputs": [
    {
     "name": "stdout",
     "output_type": "stream",
     "text": [
      "2.5\n",
      "5.0\n"
     ]
    }
   ],
   "source": [
    "print(mean(1,2,3),mean(1,2,3,4,5,6,7,8), sep = \"\\n\")"
   ]
  },
  {
   "cell_type": "markdown",
   "metadata": {},
   "source": [
    "#### 1-3. for와 range를 사용해서 0부터 9까지 중 홀수인 1, 3, 5, 7, 9만 odd_nums에 저장하고 출력하는 코드를 짜보세요. "
   ]
  },
  {
   "cell_type": "code",
   "execution_count": 18,
   "metadata": {},
   "outputs": [
    {
     "name": "stdout",
     "output_type": "stream",
     "text": [
      "[1, 3, 5, 7, 9]\n"
     ]
    }
   ],
   "source": [
    "odd_nums = []\n",
    "for i in range (0,10):\n",
    "    if i%2==1 :\n",
    "        odd_nums.append(i)\n",
    "\n",
    "print(odd_nums)"
   ]
  },
  {
   "cell_type": "markdown",
   "metadata": {},
   "source": [
    "#### 1-4. 다음 리스트에서 생일만 리스트에 담는 함수 birth를 작성하세요"
   ]
  },
  {
   "cell_type": "code",
   "execution_count": 1,
   "metadata": {
    "scrolled": true
   },
   "outputs": [
    {
     "name": "stdout",
     "output_type": "stream",
     "text": [
      "[' 930115-1234567', '990101- 2257262', '000327 - 1010209', '010101-2047219 ', '9706091360217']\n"
     ]
    }
   ],
   "source": [
    "pin1 = \" 930115-1234567\"\n",
    "pin2 = \"990101- 2257262\"\n",
    "pin3 = \"000327 - 1010209\"\n",
    "pin4 = \"010101-2047219 \"\n",
    "pin5 = \"9706091360217\"\n",
    "pin = [pin1, pin2, pin3, pin4, pin5]\n",
    "print(pin)\n"
   ]
  },
  {
   "cell_type": "code",
   "execution_count": 6,
   "metadata": {},
   "outputs": [],
   "source": [
    "def birth (arr) :\n",
    "    pin2=[]\n",
    "    for i in arr:\n",
    "        s=i.strip()\n",
    "#         print(s[2:6])\n",
    "        pin2.append(s[2:6])\n",
    "    print(pin2)\n"
   ]
  },
  {
   "cell_type": "code",
   "execution_count": 7,
   "metadata": {
    "scrolled": true
   },
   "outputs": [
    {
     "name": "stdout",
     "output_type": "stream",
     "text": [
      "['0115', '0101', '0327', '0101', '0609']\n"
     ]
    }
   ],
   "source": [
    "birth(pin)"
   ]
  },
  {
   "cell_type": "markdown",
   "metadata": {},
   "source": [
    "#### 2. 함수 문제\n",
    "#### 2-1.  if/ elif/ else문을 사용해서 2019년이 윤년인지 계산하는 코드를 짜보세요. \n",
    "- 윤년 계산법\n",
    "    - 연도가 400으로 나누어 떨어지면 윤년입니다. \n",
    "    - 연도가 4로 나누어 떨어지면서 100으로 나누어 떨어지지 않으면 윤년입니다. "
   ]
  },
  {
   "cell_type": "code",
   "execution_count": 56,
   "metadata": {},
   "outputs": [
    {
     "name": "stdout",
     "output_type": "stream",
     "text": [
      "평년입니다. \n"
     ]
    }
   ],
   "source": [
    "year = 2019 \n",
    "\n",
    "if (year%400==0):\n",
    "    print('윤년입니다.')\n",
    "elif year %4==0 and year %100 !=0 :\n",
    "    print('윤년입니다.')\n",
    "else : \n",
    "    print('평년입니다. ')"
   ]
  },
  {
   "cell_type": "markdown",
   "metadata": {},
   "source": [
    "#### 2-2. 더하기, 빼기, 곱하기, 나누기 기능이 있는 클래스 Calculator를 작성하세요"
   ]
  },
  {
   "cell_type": "code",
   "execution_count": null,
   "metadata": {},
   "outputs": [],
   "source": [
    "class Calculator():\n",
    "    def __init__(self,a,b):\n",
    "       \n",
    "        self.a=a\n",
    "        self.b=b\n",
    "\n",
    "    def add(self):\n",
    "        result =self.a+self.b\n",
    "        return result\n",
    "    def subtract(self):\n",
    "        result =self.a-self.b\n",
    "        return result\n",
    "    def multiply(self):\n",
    "        result =self.a*self.b\n",
    "        return result\n",
    "    def divide(self):\n",
    "        result =self.a/self.b\n",
    "        return result\n",
    "\n"
   ]
  },
  {
   "cell_type": "code",
   "execution_count": null,
   "metadata": {},
   "outputs": [],
   "source": [
    "Cal = Calculator(13,7)\n",
    "print(Cal.add(),Cal.subtract(),Cal.multiply(),Cal.divide(), sep = \"\\n\")"
   ]
  },
  {
   "cell_type": "markdown",
   "metadata": {},
   "source": [
    "#### 2-3. 가위바위보 게임 만들기\n",
    "다음 요구사항에 맞는 가위바위보 게임을 만들어보세요. "
   ]
  },
  {
   "cell_type": "code",
   "execution_count": null,
   "metadata": {},
   "outputs": [
    {
     "name": "stdout",
     "output_type": "stream",
     "text": [
      "입력하시오 : 가위\n",
      "A는 :가위\n",
      "B는 :보\n",
      "이겼어요!\n"
     ]
    }
   ],
   "source": [
    "# 사용자에게 '가위', '바위', '보'를 입력받으세요. \n",
    "import random \n",
    "\n",
    "s=['가위','바위','보']\n",
    "\n",
    "# 리스트에 가위, 바위, 보를 저장합니다. \n",
    "while(1):\n",
    "# 게임을 무한 반복합니다. \n",
    "    A= input('입력하시오 : ')\n",
    "# 사용자에게는 입력을 받고, \n",
    "    B= random.choice(s)\n",
    "# 컴퓨터는 랜덤하게 선택합니다. \n",
    "    if A ==\"끝\":\n",
    "# 만약 사용자가 '끝'을 입력하면,\n",
    "        break;\n",
    "# 반복을 종료합니다. \n",
    "    print('A는 :'+A)\n",
    "    print('B는 :'+B)\n",
    "# 둘의 선택을 print 해봅니다. \n",
    "\n",
    "    if A==B:\n",
    "# 만약 둘이 같은 것을 내면 \n",
    "        print('비겼어요!')\n",
    "# '비겼어요!'를 출력합니다.\n",
    "    elif A=='가위':\n",
    "# 아니라면 사용자가 가위인지 판단합니다.\n",
    "        if B=='바위':\n",
    "# 사용자가 가위이면서 컴퓨터가 바위이면 \n",
    "            print('졌어요!')\n",
    "# '졌어요!'를 출력하고 \n",
    "        else :\n",
    "            print('이겼어요!')\n",
    "# 그렇지 않으면 \n",
    "# '이겼어요!'를 출력합니다. \n",
    "    elif A=='바위':\n",
    "        if B=='가위':\n",
    "            print('이겼어요!')\n",
    "        else :\n",
    "            print('졌어요!')\n",
    "    else:\n",
    "        if B=='바위':\n",
    "            print('이겼어요!')\n",
    "        else :\n",
    "            print('졌어요!')\n",
    "# 같은 원리로 사용자가 바위일 때와\n",
    "\n",
    "# 보일 때를 짜보세요. "
   ]
  },
  {
   "cell_type": "markdown",
   "metadata": {},
   "source": [
    "# Numpy 연습문제"
   ]
  },
  {
   "cell_type": "markdown",
   "metadata": {},
   "source": [
    "#### 1. Matrix 연산\n",
    "#### 1-1. 다음과 같은 matrix a, b를 생성하고 서로 곱해보세요"
   ]
  },
  {
   "cell_type": "code",
   "execution_count": 95,
   "metadata": {
    "scrolled": true
   },
   "outputs": [],
   "source": [
    "\n",
    "a = np.arange(12).reshape((3,4))\n",
    "a=a+1\n",
    "\n",
    "b= np.array([[1,2,3],[5,6,7],[9,10,11],[1,2,3]])\n"
   ]
  },
  {
   "cell_type": "code",
   "execution_count": 97,
   "metadata": {},
   "outputs": [
    {
     "name": "stdout",
     "output_type": "stream",
     "text": [
      "[[ 1  2  3  4]\n",
      " [ 5  6  7  8]\n",
      " [ 9 10 11 12]]\n",
      "[[ 1  2  3]\n",
      " [ 5  6  7]\n",
      " [ 9 10 11]\n",
      " [ 1  2  3]]\n",
      "[[ 42  52  62]\n",
      " [106 132 158]\n",
      " [170 212 254]]\n"
     ]
    }
   ],
   "source": [
    "print(a,b, sep =\"\\n\")\n",
    "print(a.dot(b))"
   ]
  },
  {
   "cell_type": "markdown",
   "metadata": {},
   "source": [
    "#### 1-2. 다음 두 벡터의 내적과 외적 값을 구하세요"
   ]
  },
  {
   "cell_type": "code",
   "execution_count": 5,
   "metadata": {},
   "outputs": [],
   "source": [
    "import numpy as np\n",
    "a = np.array([1,2,3,4,5])\n",
    "b = np.array([6,7,8,9,10])"
   ]
  },
  {
   "cell_type": "code",
   "execution_count": 6,
   "metadata": {},
   "outputs": [
    {
     "name": "stdout",
     "output_type": "stream",
     "text": [
      "내적 :130\n",
      "외적 :\n",
      "[[ 6 12 18 24 30]\n",
      " [ 7 14 21 28 35]\n",
      " [ 8 16 24 32 40]\n",
      " [ 9 18 27 36 45]\n",
      " [10 20 30 40 50]]\n"
     ]
    }
   ],
   "source": [
    "import itertools\n",
    "sum=0\n",
    "for i in a*b : \n",
    "    sum+=i\n",
    "print('내적 :'+ str(sum))\n",
    "\n",
    "\n",
    "print('외적 :')\n",
    "x=np.transpose([np.tile(a, len(b))*np.repeat(b, len(a))])\n",
    "print(x.reshape(5,5))"
   ]
  },
  {
   "cell_type": "markdown",
   "metadata": {},
   "source": [
    "# Pandas"
   ]
  },
  {
   "cell_type": "markdown",
   "metadata": {},
   "source": [
    "#### 1. dataframe 다루기\n",
    "#### 1-1. 다음과 같은 dataframe을 생성하세요"
   ]
  },
  {
   "cell_type": "code",
   "execution_count": 7,
   "metadata": {},
   "outputs": [],
   "source": [
    "# Your Code Here\n",
    "import pandas as pd\n",
    "twelve = pd.DataFrame(data={\"조\":['A','A','A','A','A','A','B','B','B','B','B','B',\n",
    "                                'C','C','C','C','C','D','D','D','D','D','E','E','E','E','E'], \n",
    "                            \"이름\":['전승우','유응규','박재언','신광욱','박현정','문현주','성민석','이형남',\n",
    "                                 '전은정','김아영','남궁찬','고동희','박서호','지현이','윤훈상','양광민',\n",
    "                                 '송원호','양태일','하진용','정해원','유승룡','전용진','신하은','조문기','장현정','최준명','이동건'], \"성별\":[1,1,1,1,2,2,1,1,2,2,1,1,1,2,1,1,1,1,1,2,1,1,2,1,2,1,1]},\n",
    "                     columns=['조','이름','성별'])\n",
    "\n"
   ]
  },
  {
   "cell_type": "code",
   "execution_count": 8,
   "metadata": {},
   "outputs": [
    {
     "data": {
      "text/html": [
       "<div>\n",
       "<style scoped>\n",
       "    .dataframe tbody tr th:only-of-type {\n",
       "        vertical-align: middle;\n",
       "    }\n",
       "\n",
       "    .dataframe tbody tr th {\n",
       "        vertical-align: top;\n",
       "    }\n",
       "\n",
       "    .dataframe thead th {\n",
       "        text-align: right;\n",
       "    }\n",
       "</style>\n",
       "<table border=\"1\" class=\"dataframe\">\n",
       "  <thead>\n",
       "    <tr style=\"text-align: right;\">\n",
       "      <th></th>\n",
       "      <th>조</th>\n",
       "      <th>이름</th>\n",
       "      <th>성별</th>\n",
       "    </tr>\n",
       "  </thead>\n",
       "  <tbody>\n",
       "    <tr>\n",
       "      <th>0</th>\n",
       "      <td>A</td>\n",
       "      <td>전승우</td>\n",
       "      <td>1</td>\n",
       "    </tr>\n",
       "    <tr>\n",
       "      <th>1</th>\n",
       "      <td>A</td>\n",
       "      <td>유응규</td>\n",
       "      <td>1</td>\n",
       "    </tr>\n",
       "    <tr>\n",
       "      <th>2</th>\n",
       "      <td>A</td>\n",
       "      <td>박재언</td>\n",
       "      <td>1</td>\n",
       "    </tr>\n",
       "    <tr>\n",
       "      <th>3</th>\n",
       "      <td>A</td>\n",
       "      <td>신광욱</td>\n",
       "      <td>1</td>\n",
       "    </tr>\n",
       "    <tr>\n",
       "      <th>4</th>\n",
       "      <td>A</td>\n",
       "      <td>박현정</td>\n",
       "      <td>2</td>\n",
       "    </tr>\n",
       "    <tr>\n",
       "      <th>5</th>\n",
       "      <td>A</td>\n",
       "      <td>문현주</td>\n",
       "      <td>2</td>\n",
       "    </tr>\n",
       "    <tr>\n",
       "      <th>6</th>\n",
       "      <td>B</td>\n",
       "      <td>성민석</td>\n",
       "      <td>1</td>\n",
       "    </tr>\n",
       "    <tr>\n",
       "      <th>7</th>\n",
       "      <td>B</td>\n",
       "      <td>이형남</td>\n",
       "      <td>1</td>\n",
       "    </tr>\n",
       "    <tr>\n",
       "      <th>8</th>\n",
       "      <td>B</td>\n",
       "      <td>전은정</td>\n",
       "      <td>2</td>\n",
       "    </tr>\n",
       "    <tr>\n",
       "      <th>9</th>\n",
       "      <td>B</td>\n",
       "      <td>김아영</td>\n",
       "      <td>2</td>\n",
       "    </tr>\n",
       "    <tr>\n",
       "      <th>10</th>\n",
       "      <td>B</td>\n",
       "      <td>남궁찬</td>\n",
       "      <td>1</td>\n",
       "    </tr>\n",
       "    <tr>\n",
       "      <th>11</th>\n",
       "      <td>B</td>\n",
       "      <td>고동희</td>\n",
       "      <td>1</td>\n",
       "    </tr>\n",
       "    <tr>\n",
       "      <th>12</th>\n",
       "      <td>C</td>\n",
       "      <td>박서호</td>\n",
       "      <td>1</td>\n",
       "    </tr>\n",
       "    <tr>\n",
       "      <th>13</th>\n",
       "      <td>C</td>\n",
       "      <td>지현이</td>\n",
       "      <td>2</td>\n",
       "    </tr>\n",
       "    <tr>\n",
       "      <th>14</th>\n",
       "      <td>C</td>\n",
       "      <td>윤훈상</td>\n",
       "      <td>1</td>\n",
       "    </tr>\n",
       "    <tr>\n",
       "      <th>15</th>\n",
       "      <td>C</td>\n",
       "      <td>양광민</td>\n",
       "      <td>1</td>\n",
       "    </tr>\n",
       "    <tr>\n",
       "      <th>16</th>\n",
       "      <td>C</td>\n",
       "      <td>송원호</td>\n",
       "      <td>1</td>\n",
       "    </tr>\n",
       "    <tr>\n",
       "      <th>17</th>\n",
       "      <td>D</td>\n",
       "      <td>양태일</td>\n",
       "      <td>1</td>\n",
       "    </tr>\n",
       "    <tr>\n",
       "      <th>18</th>\n",
       "      <td>D</td>\n",
       "      <td>하진용</td>\n",
       "      <td>1</td>\n",
       "    </tr>\n",
       "    <tr>\n",
       "      <th>19</th>\n",
       "      <td>D</td>\n",
       "      <td>정해원</td>\n",
       "      <td>2</td>\n",
       "    </tr>\n",
       "    <tr>\n",
       "      <th>20</th>\n",
       "      <td>D</td>\n",
       "      <td>유승룡</td>\n",
       "      <td>1</td>\n",
       "    </tr>\n",
       "    <tr>\n",
       "      <th>21</th>\n",
       "      <td>D</td>\n",
       "      <td>전용진</td>\n",
       "      <td>1</td>\n",
       "    </tr>\n",
       "    <tr>\n",
       "      <th>22</th>\n",
       "      <td>E</td>\n",
       "      <td>신하은</td>\n",
       "      <td>2</td>\n",
       "    </tr>\n",
       "    <tr>\n",
       "      <th>23</th>\n",
       "      <td>E</td>\n",
       "      <td>조문기</td>\n",
       "      <td>1</td>\n",
       "    </tr>\n",
       "    <tr>\n",
       "      <th>24</th>\n",
       "      <td>E</td>\n",
       "      <td>장현정</td>\n",
       "      <td>2</td>\n",
       "    </tr>\n",
       "    <tr>\n",
       "      <th>25</th>\n",
       "      <td>E</td>\n",
       "      <td>최준명</td>\n",
       "      <td>1</td>\n",
       "    </tr>\n",
       "    <tr>\n",
       "      <th>26</th>\n",
       "      <td>E</td>\n",
       "      <td>이동건</td>\n",
       "      <td>1</td>\n",
       "    </tr>\n",
       "  </tbody>\n",
       "</table>\n",
       "</div>"
      ],
      "text/plain": [
       "    조   이름  성별\n",
       "0   A  전승우   1\n",
       "1   A  유응규   1\n",
       "2   A  박재언   1\n",
       "3   A  신광욱   1\n",
       "4   A  박현정   2\n",
       "5   A  문현주   2\n",
       "6   B  성민석   1\n",
       "7   B  이형남   1\n",
       "8   B  전은정   2\n",
       "9   B  김아영   2\n",
       "10  B  남궁찬   1\n",
       "11  B  고동희   1\n",
       "12  C  박서호   1\n",
       "13  C  지현이   2\n",
       "14  C  윤훈상   1\n",
       "15  C  양광민   1\n",
       "16  C  송원호   1\n",
       "17  D  양태일   1\n",
       "18  D  하진용   1\n",
       "19  D  정해원   2\n",
       "20  D  유승룡   1\n",
       "21  D  전용진   1\n",
       "22  E  신하은   2\n",
       "23  E  조문기   1\n",
       "24  E  장현정   2\n",
       "25  E  최준명   1\n",
       "26  E  이동건   1"
      ]
     },
     "execution_count": 8,
     "metadata": {},
     "output_type": "execute_result"
    }
   ],
   "source": [
    "twelve"
   ]
  },
  {
   "cell_type": "markdown",
   "metadata": {},
   "source": [
    "#### 1-2. A조 남자와 E조 여자를 출력하세요"
   ]
  },
  {
   "cell_type": "code",
   "execution_count": 16,
   "metadata": {},
   "outputs": [
    {
     "data": {
      "text/html": [
       "<div>\n",
       "<style scoped>\n",
       "    .dataframe tbody tr th:only-of-type {\n",
       "        vertical-align: middle;\n",
       "    }\n",
       "\n",
       "    .dataframe tbody tr th {\n",
       "        vertical-align: top;\n",
       "    }\n",
       "\n",
       "    .dataframe thead th {\n",
       "        text-align: right;\n",
       "    }\n",
       "</style>\n",
       "<table border=\"1\" class=\"dataframe\">\n",
       "  <thead>\n",
       "    <tr style=\"text-align: right;\">\n",
       "      <th></th>\n",
       "      <th>조</th>\n",
       "      <th>이름</th>\n",
       "      <th>성별</th>\n",
       "    </tr>\n",
       "  </thead>\n",
       "  <tbody>\n",
       "    <tr>\n",
       "      <th>0</th>\n",
       "      <td>A</td>\n",
       "      <td>전승우</td>\n",
       "      <td>1</td>\n",
       "    </tr>\n",
       "    <tr>\n",
       "      <th>1</th>\n",
       "      <td>A</td>\n",
       "      <td>유응규</td>\n",
       "      <td>1</td>\n",
       "    </tr>\n",
       "    <tr>\n",
       "      <th>2</th>\n",
       "      <td>A</td>\n",
       "      <td>박재언</td>\n",
       "      <td>1</td>\n",
       "    </tr>\n",
       "    <tr>\n",
       "      <th>3</th>\n",
       "      <td>A</td>\n",
       "      <td>신광욱</td>\n",
       "      <td>1</td>\n",
       "    </tr>\n",
       "    <tr>\n",
       "      <th>22</th>\n",
       "      <td>E</td>\n",
       "      <td>신하은</td>\n",
       "      <td>2</td>\n",
       "    </tr>\n",
       "    <tr>\n",
       "      <th>24</th>\n",
       "      <td>E</td>\n",
       "      <td>장현정</td>\n",
       "      <td>2</td>\n",
       "    </tr>\n",
       "  </tbody>\n",
       "</table>\n",
       "</div>"
      ],
      "text/plain": [
       "    조   이름  성별\n",
       "0   A  전승우   1\n",
       "1   A  유응규   1\n",
       "2   A  박재언   1\n",
       "3   A  신광욱   1\n",
       "22  E  신하은   2\n",
       "24  E  장현정   2"
      ]
     },
     "execution_count": 16,
     "metadata": {},
     "output_type": "execute_result"
    }
   ],
   "source": [
    "twelve[(twelve['조']=='A') & (twelve['성별']==1)\n",
    "      | (twelve['조']=='E') & (twelve['성별']==2)]\n"
   ]
  },
  {
   "cell_type": "markdown",
   "metadata": {},
   "source": [
    "#### 1-3. 이씨를 출력하세요 (List 내포 for문을 써서 한줄로 짜보세요 !)"
   ]
  },
  {
   "cell_type": "code",
   "execution_count": 3,
   "metadata": {},
   "outputs": [],
   "source": [
    "\n",
    "result=[ i for i in twelve['이름'] if i[0]=='이']"
   ]
  },
  {
   "cell_type": "code",
   "execution_count": 4,
   "metadata": {},
   "outputs": [
    {
     "data": {
      "text/plain": [
       "['이형남', '이동건']"
      ]
     },
     "execution_count": 4,
     "metadata": {},
     "output_type": "execute_result"
    }
   ],
   "source": [
    "result "
   ]
  }
 ],
 "metadata": {
  "kernelspec": {
   "display_name": "Python 3",
   "language": "python",
   "name": "python3"
  },
  "language_info": {
   "codemirror_mode": {
    "name": "ipython",
    "version": 3
   },
   "file_extension": ".py",
   "mimetype": "text/x-python",
   "name": "python",
   "nbconvert_exporter": "python",
   "pygments_lexer": "ipython3",
   "version": "3.7.1"
  }
 },
 "nbformat": 4,
 "nbformat_minor": 2
}
