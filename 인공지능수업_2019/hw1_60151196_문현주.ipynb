{
 "cells": [
  {
   "cell_type": "code",
   "execution_count": 2,
   "metadata": {},
   "outputs": [],
   "source": [
    "# 60151196 문현주 \n",
    "\n",
    "import numpy as np \n",
    "import pandas as pd \n",
    "from pandas import Series, DataFrame \n",
    "\n",
    "### 문제 1번 \n",
    "\n",
    " #파이썬 내부 함수 이용\n",
    "dep_list=['cs','cs','dt','dcd','dt','as','as','ice','ice','ice']\n",
    "sno_list = ['0001','0002','0003','0004','0005','0006','0007','0008','0009','0010']\n",
    "gpa_list =[2.10,3.50,4.50,2.70,3.00,3.15,4.00,0.00,3.25,3.70]\n",
    "\n",
    "#numpy 이용\n",
    "dep_np= np.array(dep_list)\n",
    "sno_np=np.array(sno_list)\n",
    "gpa_np = np.array(gpa_list)\n",
    "\n",
    "#pandas 이용\n",
    "dep_pd= Series(dep_list)\n",
    "sno_pd = Series(sno_list)\n",
    "gpa_pd = Series (gpa_list)\n",
    "\n",
    "\n"
   ]
  },
  {
   "cell_type": "code",
   "execution_count": 4,
   "metadata": {},
   "outputs": [
    {
     "name": "stdout",
     "output_type": "stream",
     "text": [
      "2.99\n",
      "2.99 3.2\n",
      "2.99 3.2\n"
     ]
    }
   ],
   "source": [
    "\n",
    "### 문제 2번 \n",
    "\n",
    "\n",
    "print (round(sum(gpa_list) / float(len(gpa_list)),2))\n",
    "\n",
    "print (round(np.mean(gpa_np),2),round(np.median(gpa_np),2))\n",
    "\n",
    "print (round(gpa_pd.mean(),2),round(gpa_pd.median(),2))\n",
    "\n",
    "\n"
   ]
  },
  {
   "cell_type": "code",
   "execution_count": 3,
   "metadata": {},
   "outputs": [
    {
     "name": "stdout",
     "output_type": "stream",
     "text": [
      "3.2\n"
     ]
    }
   ],
   "source": [
    "\n",
    "### 문제 3번 \n",
    "\n",
    "def calculate_median(x):\n",
    "    x = sorted(x)\n",
    "    x_len = len(x)\n",
    "    if x_len < 1:\n",
    "        return None\n",
    "    if x_len % 2 == 0 :\n",
    "        return ( x[int((x_len-1)/2)] + x[int((x_len+1)/2)] ) / 2.0\n",
    "    else:\n",
    "        return x[int((x_len-1)/2)]\n",
    "\n",
    "print(calculate_median(gpa_list))"
   ]
  },
  {
   "cell_type": "code",
   "execution_count": 4,
   "metadata": {},
   "outputs": [
    {
     "data": {
      "text/html": [
       "<div>\n",
       "<style scoped>\n",
       "    .dataframe tbody tr th:only-of-type {\n",
       "        vertical-align: middle;\n",
       "    }\n",
       "\n",
       "    .dataframe tbody tr th {\n",
       "        vertical-align: top;\n",
       "    }\n",
       "\n",
       "    .dataframe thead th {\n",
       "        text-align: right;\n",
       "    }\n",
       "</style>\n",
       "<table border=\"1\" class=\"dataframe\">\n",
       "  <thead>\n",
       "    <tr style=\"text-align: right;\">\n",
       "      <th></th>\n",
       "      <th>dep</th>\n",
       "      <th>sno</th>\n",
       "      <th>gpa</th>\n",
       "    </tr>\n",
       "  </thead>\n",
       "  <tbody>\n",
       "    <tr>\n",
       "      <th>3</th>\n",
       "      <td>dcd</td>\n",
       "      <td>0004</td>\n",
       "      <td>2.7</td>\n",
       "    </tr>\n",
       "  </tbody>\n",
       "</table>\n",
       "</div>"
      ],
      "text/plain": [
       "   dep   sno  gpa\n",
       "3  dcd  0004  2.7"
      ]
     },
     "execution_count": 4,
     "metadata": {},
     "output_type": "execute_result"
    }
   ],
   "source": [
    "\n",
    "### 문제 4번 \n",
    "\n",
    "data={\"dep\":dep_list,\n",
    "     \"sno\":sno_list,\n",
    "     \"gpa\":gpa_list}\n",
    "\n",
    "df= pd.DataFrame(data)\n",
    "df= df.sort_values(['gpa'])\n",
    "df[2:3]\n"
   ]
  },
  {
   "cell_type": "code",
   "execution_count": 5,
   "metadata": {},
   "outputs": [
    {
     "name": "stdout",
     "output_type": "stream",
     "text": [
      "부서별 평균 GPA\n",
      "          gpa\n",
      "dep          \n",
      "as   3.575000\n",
      "cs   2.800000\n",
      "dcd  2.700000\n",
      "dt   3.750000\n",
      "ice  2.316667\n",
      "\n",
      " 부서별 최대 GPA\n",
      "      sno  gpa\n",
      "dep           \n",
      "as   0007  4.0\n",
      "cs   0002  3.5\n",
      "dcd  0004  2.7\n",
      "dt   0005  4.5\n",
      "ice  0010  3.7\n",
      "\n",
      " 부서별 최소 GPA\n",
      "      sno   gpa\n",
      "dep            \n",
      "as   0006  3.15\n",
      "cs   0001  2.10\n",
      "dcd  0004  2.70\n",
      "dt   0003  3.00\n",
      "ice  0008  0.00\n"
     ]
    }
   ],
   "source": [
    "\n",
    "### 문제 5번 \n",
    "\n",
    "print('부서별 평균 GPA')\n",
    "print(df.groupby(\"dep\").mean())\n",
    "\n",
    "print('\\n 부서별 최대 GPA')\n",
    "print(df.groupby(\"dep\").max())\n",
    "\n",
    "print('\\n 부서별 최소 GPA')\n",
    "print(df.groupby(\"dep\").min())"
   ]
  },
  {
   "cell_type": "code",
   "execution_count": 6,
   "metadata": {},
   "outputs": [
    {
     "data": {
      "text/html": [
       "<div>\n",
       "<style scoped>\n",
       "    .dataframe tbody tr th:only-of-type {\n",
       "        vertical-align: middle;\n",
       "    }\n",
       "\n",
       "    .dataframe tbody tr th {\n",
       "        vertical-align: top;\n",
       "    }\n",
       "\n",
       "    .dataframe thead th {\n",
       "        text-align: right;\n",
       "    }\n",
       "</style>\n",
       "<table border=\"1\" class=\"dataframe\">\n",
       "  <thead>\n",
       "    <tr style=\"text-align: right;\">\n",
       "      <th>year</th>\n",
       "      <th>2010</th>\n",
       "      <th>2011</th>\n",
       "      <th>2012</th>\n",
       "      <th>2013</th>\n",
       "    </tr>\n",
       "    <tr>\n",
       "      <th>dep</th>\n",
       "      <th></th>\n",
       "      <th></th>\n",
       "      <th></th>\n",
       "      <th></th>\n",
       "    </tr>\n",
       "  </thead>\n",
       "  <tbody>\n",
       "    <tr>\n",
       "      <th>as</th>\n",
       "      <td>NaN</td>\n",
       "      <td>NaN</td>\n",
       "      <td>3.6</td>\n",
       "      <td>3.7</td>\n",
       "    </tr>\n",
       "    <tr>\n",
       "      <th>cs</th>\n",
       "      <td>2.8</td>\n",
       "      <td>NaN</td>\n",
       "      <td>0.0</td>\n",
       "      <td>NaN</td>\n",
       "    </tr>\n",
       "    <tr>\n",
       "      <th>dt</th>\n",
       "      <td>NaN</td>\n",
       "      <td>3.6</td>\n",
       "      <td>3.0</td>\n",
       "      <td>3.2</td>\n",
       "    </tr>\n",
       "  </tbody>\n",
       "</table>\n",
       "</div>"
      ],
      "text/plain": [
       "year  2010  2011  2012  2013\n",
       "dep                         \n",
       "as     NaN   NaN   3.6   3.7\n",
       "cs     2.8   NaN   0.0   NaN\n",
       "dt     NaN   3.6   3.0   3.2"
      ]
     },
     "execution_count": 6,
     "metadata": {},
     "output_type": "execute_result"
    }
   ],
   "source": [
    "\n",
    "### 문제 6번 \n",
    "\n",
    "\n",
    "data2={\"dep\":['cs','cs','dt','dt','dt','as','as','cs','dt','as'],\n",
    "     \"sno\":['0001','0002','0003','0004','0005','0006','0007','0008','0009','0010'],\n",
    "     \"gpa\":[2.10,3.50,4.50,2.70,3.00,3.20,4.00,0.00,3.20,3.70],\n",
    "      \"year\":[2010,2010,2011,2011,2012,2012,2012,2012,2013,2013]}\n",
    "\n",
    "df2= pd.DataFrame(data2)\n",
    "df2\n",
    "df2.pivot_table('gpa',index='dep',columns='year',aggfunc=np.mean)\n"
   ]
  }
 ],
 "metadata": {
  "kernelspec": {
   "display_name": "Python 3",
   "language": "python",
   "name": "python3"
  },
  "language_info": {
   "codemirror_mode": {
    "name": "ipython",
    "version": 3
   },
   "file_extension": ".py",
   "mimetype": "text/x-python",
   "name": "python",
   "nbconvert_exporter": "python",
   "pygments_lexer": "ipython3",
   "version": "3.6.2"
  }
 },
 "nbformat": 4,
 "nbformat_minor": 2
}
