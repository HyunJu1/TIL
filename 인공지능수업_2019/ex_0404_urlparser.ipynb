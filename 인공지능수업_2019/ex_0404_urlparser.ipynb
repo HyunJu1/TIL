{
 "cells": [
  {
   "cell_type": "code",
   "execution_count": 3,
   "metadata": {},
   "outputs": [
    {
     "name": "stdout",
     "output_type": "stream",
     "text": [
      "1,136.30\n",
      "1,020.16\n",
      "1,277.37\n",
      "169.11\n",
      "111.4900\n",
      "1.1228\n",
      "1.3156\n",
      "96.6600\n",
      "62.46\n",
      "1400.43\n",
      "1289.9\n",
      "47215.13\n"
     ]
    }
   ],
   "source": [
    "import urllib.request\n",
    "from bs4 import BeautifulSoup \n",
    "\n",
    "url = \"https://finance.naver.com/marketindex/\"\n",
    "response = urllib.request.urlopen(url)\n",
    "\n",
    "soup = BeautifulSoup(response, \"html.parser\")\n",
    "results= soup.select(\"span.value\")\n",
    "for result in results:\n",
    "    print(result.string)"
   ]
  },
  {
   "cell_type": "code",
   "execution_count": 4,
   "metadata": {},
   "outputs": [
    {
     "name": "stdout",
     "output_type": "stream",
     "text": [
      "usd/krw =  47215.13\n"
     ]
    }
   ],
   "source": [
    "import urllib.request\n",
    "from bs4 import BeautifulSoup \n",
    "\n",
    "url = \"https://finance.naver.com/marketindex/\"\n",
    "response = urllib.request.urlopen(url)\n",
    "\n",
    "soup = BeautifulSoup(response, \"html.parser\")\n",
    "results= soup.select_one(\"div.head_info > span.value\")\n",
    "print(\"usd/krw = \",result.string)\n"
   ]
  },
  {
   "cell_type": "code",
   "execution_count": 5,
   "metadata": {},
   "outputs": [
    {
     "name": "stdout",
     "output_type": "stream",
     "text": [
      "usd/krw =  47215.13\n"
     ]
    }
   ],
   "source": [
    "import urllib.request\n",
    "from bs4 import BeautifulSoup \n",
    "\n",
    "url = \"https://finance.naver.com/marketindex/\"\n",
    "response = urllib.request.urlopen(url)\n",
    "\n",
    "soup = BeautifulSoup(response, \"html.parser\")\n",
    "results= soup.select_one(\"div.head_info.point_dn > span.value\")\n",
    "print(\"usd/krw = \",result.string)\n"
   ]
  },
  {
   "cell_type": "code",
   "execution_count": 9,
   "metadata": {},
   "outputs": [],
   "source": [
    "import urllib.request as req\n",
    "from bs4 import BeautifulSoup \n",
    "\n",
    "url = \"https://ko.wikisource.org/wiki/%EC%A0%80%EC%9E%90:%EC%9C%A4%EB%8F%99%EC%A3%BC\"\n",
    "res = req.urlopen(url)\n",
    "\n",
    "soup = BeautifulSoup(res, \"html.parser\")\n",
    "\n",
    "a_list = soup.select(\"mw-content-text > div > ul > li a \")\n",
    "\n",
    "for a in a_list:\n",
    "    name=a.string\n",
    "    print(\"-\",name)\n",
    "      "
   ]
  },
  {
   "cell_type": "code",
   "execution_count": null,
   "metadata": {},
   "outputs": [],
   "source": [
    "\n",
    "import requests\n",
    "from bs4 import BeautifulSoup\n",
    "from urllib.parse import urljoin\n",
    "\n",
    "USER= \"h960305\"\n",
    "PASS= \"\"\n",
    "session = requests.session()\n"
   ]
  }
 ],
 "metadata": {
  "kernelspec": {
   "display_name": "Python 3",
   "language": "python",
   "name": "python3"
  },
  "language_info": {
   "codemirror_mode": {
    "name": "ipython",
    "version": 3
   },
   "file_extension": ".py",
   "mimetype": "text/x-python",
   "name": "python",
   "nbconvert_exporter": "python",
   "pygments_lexer": "ipython3",
   "version": "3.6.2"
  }
 },
 "nbformat": 4,
 "nbformat_minor": 2
}
